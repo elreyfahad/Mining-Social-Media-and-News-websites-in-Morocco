{
 "cells": [
  {
   "cell_type": "markdown",
   "metadata": {},
   "source": [
    "# Importation des packages :\n",
    "Les packages de base utilisés dans ce tutoriel sont re, gensim, spacyet pyLDAvis. En plus de cela, nous utiliserons également matplotlib, numpyet pandaspour le traitement et la visualisation des données"
   ]
  },
  {
   "cell_type": "code",
   "execution_count": 11,
   "metadata": {},
   "outputs": [],
   "source": [
    "import re\n",
    "import numpy as np\n",
    "import pandas as pd\n",
    "from pprint import pprint\n",
    "\n",
    "# Gensim\n",
    "import gensim\n",
    "import gensim.corpora as corpora\n",
    "from gensim.utils import simple_preprocess\n",
    "from gensim.models import CoherenceModel\n",
    "from gensim.models.ldamodel import LdaModel\n",
    "\n",
    "# spacy for lemmatization\n",
    "import spacy\n",
    "\n",
    "# Plotting tools\n",
    "import pyLDAvis\n",
    "import pyLDAvis.gensim  # don't skip this\n",
    "import matplotlib.pyplot as plt\n",
    "%matplotlib inline\n",
    "\n",
    "# Enable logging for gensim - optional\n",
    "import logging\n",
    "logging.basicConfig(format='%(asctime)s : %(levelname)s : %(message)s', level=logging.ERROR)\n",
    "\n",
    "import warnings\n",
    "warnings.filterwarnings(\"ignore\",category=DeprecationWarning)"
   ]
  },
  {
   "cell_type": "code",
   "execution_count": 12,
   "metadata": {},
   "outputs": [],
   "source": [
    "# NLTK Stop words\n",
    "from nltk.corpus import stopwords\n",
    "stop_words = stopwords.words('french')\n",
    "stop_words.extend([\"maroc\",\"morocco\",\"marocain\",\"marocaine\",\"marocains\",\"marocaines\",\"maghreb\",\"météorologique\",\"journée\",\n",
    "                   \"méteo\",\"retweet\"])"
   ]
  },
  {
   "cell_type": "code",
   "execution_count": null,
   "metadata": {},
   "outputs": [],
   "source": []
  },
  {
   "cell_type": "code",
   "execution_count": 13,
   "metadata": {},
   "outputs": [
    {
     "data": {
      "text/html": [
       "<div>\n",
       "<style scoped>\n",
       "    .dataframe tbody tr th:only-of-type {\n",
       "        vertical-align: middle;\n",
       "    }\n",
       "\n",
       "    .dataframe tbody tr th {\n",
       "        vertical-align: top;\n",
       "    }\n",
       "\n",
       "    .dataframe thead th {\n",
       "        text-align: right;\n",
       "    }\n",
       "</style>\n",
       "<table border=\"1\" class=\"dataframe\">\n",
       "  <thead>\n",
       "    <tr style=\"text-align: right;\">\n",
       "      <th></th>\n",
       "      <th>text</th>\n",
       "      <th>date</th>\n",
       "    </tr>\n",
       "  </thead>\n",
       "  <tbody>\n",
       "    <tr>\n",
       "      <th>0</th>\n",
       "      <td>adepte hammam traditionnel quartier sidi youss...</td>\n",
       "      <td>2019-11-26</td>\n",
       "    </tr>\n",
       "    <tr>\n",
       "      <th>1</th>\n",
       "      <td>fidèle réputation trublion imprévisible dévoil...</td>\n",
       "      <td>2019-11-22</td>\n",
       "    </tr>\n",
       "    <tr>\n",
       "      <th>2</th>\n",
       "      <td>retrouver mourir vendredi dernier chambre hôte...</td>\n",
       "      <td>2019-11-04</td>\n",
       "    </tr>\n",
       "    <tr>\n",
       "      <th>3</th>\n",
       "      <td>lancé nouveau série reno modèle reno reno smar...</td>\n",
       "      <td>2019-11-24</td>\n",
       "    </tr>\n",
       "    <tr>\n",
       "      <th>4</th>\n",
       "      <td>nouveau centre commercial apprête voir jour me...</td>\n",
       "      <td>2019-11-20</td>\n",
       "    </tr>\n",
       "    <tr>\n",
       "      <th>...</th>\n",
       "      <td>...</td>\n",
       "      <td>...</td>\n",
       "    </tr>\n",
       "    <tr>\n",
       "      <th>54920</th>\n",
       "      <td>officiel député princes_princesse conseiller f...</td>\n",
       "      <td>2019-11-12</td>\n",
       "    </tr>\n",
       "    <tr>\n",
       "      <th>54921</th>\n",
       "      <td>post- brexit choisir centre alternatif fabrica...</td>\n",
       "      <td>2019-11-12</td>\n",
       "    </tr>\n",
       "    <tr>\n",
       "      <th>54922</th>\n",
       "      <td>proposer démarche humain respectueux souverain...</td>\n",
       "      <td>2019-11-12</td>\n",
       "    </tr>\n",
       "    <tr>\n",
       "      <th>54923</th>\n",
       "      <td>solidariter prêter attention souffrance sort f...</td>\n",
       "      <td>2019-11-12</td>\n",
       "    </tr>\n",
       "    <tr>\n",
       "      <th>54924</th>\n",
       "      <td>raisonnable jeudi semaine annoncer approbation...</td>\n",
       "      <td>2019-11-12</td>\n",
       "    </tr>\n",
       "  </tbody>\n",
       "</table>\n",
       "<p>54925 rows × 2 columns</p>\n",
       "</div>"
      ],
      "text/plain": [
       "                                                    text        date\n",
       "0      adepte hammam traditionnel quartier sidi youss...  2019-11-26\n",
       "1      fidèle réputation trublion imprévisible dévoil...  2019-11-22\n",
       "2      retrouver mourir vendredi dernier chambre hôte...  2019-11-04\n",
       "3      lancé nouveau série reno modèle reno reno smar...  2019-11-24\n",
       "4      nouveau centre commercial apprête voir jour me...  2019-11-20\n",
       "...                                                  ...         ...\n",
       "54920  officiel député princes_princesse conseiller f...  2019-11-12\n",
       "54921  post- brexit choisir centre alternatif fabrica...  2019-11-12\n",
       "54922  proposer démarche humain respectueux souverain...  2019-11-12\n",
       "54923  solidariter prêter attention souffrance sort f...  2019-11-12\n",
       "54924  raisonnable jeudi semaine annoncer approbation...  2019-11-12\n",
       "\n",
       "[54925 rows x 2 columns]"
      ]
     },
     "execution_count": 13,
     "metadata": {},
     "output_type": "execute_result"
    }
   ],
   "source": [
    "# Import Dataset\n",
    "df = dataset=pd.read_csv(\"clean_corpus.csv\",sep=\",\")\n",
    "df"
   ]
  },
  {
   "cell_type": "markdown",
   "metadata": {},
   "source": [
    "# Preprocessing"
   ]
  },
  {
   "cell_type": "code",
   "execution_count": 14,
   "metadata": {},
   "outputs": [
    {
     "name": "stdout",
     "output_type": "stream",
     "text": [
      "['adepte hammam traditionnel quartier sidi youssef marrakech vivre véritable '\n",
      " 'cauchemar samedi dernier quand inconnu armer couteal sabre assaut bain '\n",
      " 'dépouiller client affaire']\n"
     ]
    }
   ],
   "source": [
    "# Convert to list\n",
    "data = df.text.values.tolist()\n",
    "\n",
    "# Remove Emails\n",
    "data = [re.sub('\\S*@\\S*\\s?', '', sent) for sent in data]\n",
    "\n",
    "# Remove new line characters\n",
    "data = [re.sub('\\s+', ' ', sent) for sent in data]\n",
    "\n",
    "# Remove distracting single quotes\n",
    "data = [re.sub(\"\\'\", \"\", sent) for sent in data]\n",
    "\n",
    "pprint(data[:1])"
   ]
  },
  {
   "cell_type": "code",
   "execution_count": 15,
   "metadata": {},
   "outputs": [
    {
     "name": "stdout",
     "output_type": "stream",
     "text": [
      "[['adepte', 'hammam', 'traditionnel', 'quartier', 'sidi', 'youssef', 'marrakech', 'vivre', 'veritable', 'cauchemar', 'samedi', 'dernier', 'quand', 'inconnu', 'armer', 'couteal', 'sabre', 'assaut', 'bain', 'depouiller', 'client', 'affaire']]\n"
     ]
    }
   ],
   "source": [
    "# Tokenization de chaque phrase dans une liste de mots,en supprimant complètement les signes \n",
    "#de ponctuation et les caractères inutiles.\n",
    "\n",
    "def sent_to_words(sentences):\n",
    "    for sentence in sentences:\n",
    "        yield(gensim.utils.simple_preprocess(str(sentence), deacc=True))  # deacc=True removes punctuations\n",
    "\n",
    "data_words = list(sent_to_words(data))\n",
    "\n",
    "print(data_words[:1])"
   ]
  },
  {
   "cell_type": "markdown",
   "metadata": {},
   "source": [
    "# Création de modèles Bigram et Trigram :\n",
    "\n",
    "Le modèle *Phrases* de Gensim peut construire et implémenter les bigrammes, trigrammes, quadgrammes et plus encore. Les deux arguments importants de *Phrases* sont *min_count* et *threshold*. Plus les valeurs de ces paramètres sont élevées, plus il est difficile de combiner des mots avec des bigrammes."
   ]
  },
  {
   "cell_type": "code",
   "execution_count": 16,
   "metadata": {},
   "outputs": [
    {
     "name": "stdout",
     "output_type": "stream",
     "text": [
      "['adepte', 'hammam', 'traditionnel', 'quartier_sidi', 'youssef', 'marrakech', 'vivre_veritable', 'cauchemar', 'samedi_dernier', 'quand', 'inconnu', 'armer', 'couteal_sabre', 'assaut', 'bain', 'depouiller', 'client', 'affaire']\n"
     ]
    }
   ],
   "source": [
    "# Build the bigram and trigram models\n",
    "bigram = gensim.models.Phrases(data_words, min_count=1, threshold=2) # higher threshold fewer phrases.\n",
    "trigram = gensim.models.Phrases(bigram[data_words], threshold=5)  \n",
    "\n",
    "# Un moyen plus rapide d'obtenir une phrase matraquée comme un trigramme / bigramme\n",
    "bigram_mod = gensim.models.phrases.Phraser(bigram)\n",
    "trigram_mod = gensim.models.phrases.Phraser(trigram)\n",
    "\n",
    "# See trigram example\n",
    "print(trigram_mod[bigram_mod[data_words[0]]])"
   ]
  },
  {
   "cell_type": "markdown",
   "metadata": {},
   "source": [
    "# Supprimez les mots vides, créez des bigrammes et lemmatisez :\n",
    "Le modèle des bigrammes est prêt. Définissons les fonctions pour supprimer les mots vides, créer des bigrammes et lemmatisation et les appeler séquentiellement"
   ]
  },
  {
   "cell_type": "code",
   "execution_count": 17,
   "metadata": {},
   "outputs": [],
   "source": [
    "# Define functions for stopwords, bigrams, trigrams and lemmatization\n",
    "def remove_stopwords(texts):\n",
    "    return [[word for word in simple_preprocess(str(doc)) if word not in stop_words] for doc in texts]\n",
    "\n",
    "def make_bigrams(texts):\n",
    "    return [bigram_mod[doc] for doc in texts]\n",
    "\n",
    "def make_trigrams(texts):\n",
    "    return [trigram_mod[bigram_mod[doc]] for doc in texts]\n",
    "\n",
    "def lemmatization(texts, allowed_postags=['NOUN', 'ADJ', 'VERB', 'ADV']):\n",
    "    \"\"\"https://spacy.io/api/annotation\"\"\"\n",
    "    texts_out = []\n",
    "    for sent in texts:\n",
    "        doc = nlp(\" \".join(sent)) \n",
    "        texts_out.append([token.lemma_ for token in doc if token.pos_ in allowed_postags])\n",
    "    return texts_out"
   ]
  },
  {
   "cell_type": "code",
   "execution_count": 18,
   "metadata": {},
   "outputs": [
    {
     "name": "stdout",
     "output_type": "stream",
     "text": [
      "[['adepte', 'hammam', 'traditionnel', 'quartier_sidi', 'youssef', 'vivre_veritabl', 'cauchemar', 'quand', 'inconnu', 'armer', 'assaut', 'bain', 'client', 'affaire']]\n"
     ]
    }
   ],
   "source": [
    "# Remove Stop Words\n",
    "data_words_nostops = remove_stopwords(data_words)\n",
    "\n",
    "# Form Bigrams\n",
    "data_words_bigrams = make_bigrams(data_words_nostops)\n",
    "\n",
    "# Initialize spacy 'en' model, keeping only tagger component (for efficiency)\n",
    "# python3 -m spacy download en\n",
    "nlp = spacy.load('fr_core_news_md', disable=['parser', 'ner'])\n",
    "\n",
    "# Do lemmatization keeping only noun, adj, vb, adv\n",
    "data_lemmatized = lemmatization(data_words_bigrams, allowed_postags=['NOUN', 'ADJ', 'VERB', 'ADV'])\n",
    "\n",
    "print(data_lemmatized[:1])"
   ]
  },
  {
   "cell_type": "markdown",
   "metadata": {},
   "source": [
    "# Création du dictionnaire et le corpus nécessaires à la modélisation des sujets :\n",
    "Les deux entrées principales du modèle de sujet LDA sont le dictionnaire ( *id2word*) et le corpus"
   ]
  },
  {
   "cell_type": "code",
   "execution_count": 19,
   "metadata": {},
   "outputs": [
    {
     "name": "stdout",
     "output_type": "stream",
     "text": [
      "[[(0, 1), (1, 1), (2, 1), (3, 1), (4, 1), (5, 1), (6, 1), (7, 1), (8, 1), (9, 1), (10, 1), (11, 1), (12, 1), (13, 1)]]\n"
     ]
    }
   ],
   "source": [
    "# Create Dictionary\n",
    "id2word = corpora.Dictionary(data_lemmatized)\n",
    "\n",
    "# Create Corpus\n",
    "texts = data_lemmatized\n",
    "\n",
    "# Term Document Frequency\n",
    "corpus = [id2word.doc2bow(text) for text in texts]\n",
    "\n",
    "# View\n",
    "print(corpus[:1])"
   ]
  },
  {
   "cell_type": "markdown",
   "metadata": {},
   "source": [
    "Gensim crée un identifiant unique pour chaque mot du document. Le corpus produit ci-dessus est un mappage de *(word_id, word_frequency)*.\n",
    "\n",
    "Par exemple, (0, 1) ci-dessus implique, le mot dont id=0 apparaît une fois dans le premier document. De même, le mot id=1 apparaît un fois fois et ainsi de suite.\n",
    "\n",
    "Ceci est utilisé comme entrée par le modèle LDA."
   ]
  },
  {
   "cell_type": "code",
   "execution_count": 20,
   "metadata": {},
   "outputs": [
    {
     "data": {
      "text/plain": [
       "[[('adepte', 1),\n",
       "  ('affaire', 1),\n",
       "  ('armer', 1),\n",
       "  ('assaut', 1),\n",
       "  ('bain', 1),\n",
       "  ('cauchemar', 1),\n",
       "  ('client', 1),\n",
       "  ('hammam', 1),\n",
       "  ('inconnu', 1),\n",
       "  ('quand', 1),\n",
       "  ('quartier_sidi', 1),\n",
       "  ('traditionnel', 1),\n",
       "  ('vivre_veritabl', 1),\n",
       "  ('youssef', 1)]]"
      ]
     },
     "execution_count": 20,
     "metadata": {},
     "output_type": "execute_result"
    }
   ],
   "source": [
    "#Si vous voulez voir à quel mot correspond un identifiant donné\n",
    "[[(id2word[id], freq) for id, freq in cp] for cp in corpus[:1]]"
   ]
  },
  {
   "cell_type": "markdown",
   "metadata": {},
   "source": [
    "# Construiction du modèle de sujet :\n",
    "\n",
    "1. *alpha* et *eta* sont des hyperparamètres qui affectent la rareté des sujets. Selon les documents Gensim, les deux valeurs par défaut sont **1.0** et **num_topics**\n",
    "\n",
    "2. *chunksize* est le nombre de documents à utiliser dans chaque bloc de formation. \n",
    "3. *update_every* détermine la fréquence à laquelle les paramètres du modèle doivent être mis à jour \n",
    "4. *passes* correspond au nombre total de passes de formation"
   ]
  },
  {
   "cell_type": "code",
   "execution_count": 21,
   "metadata": {},
   "outputs": [],
   "source": [
    "# Build LDA model\n",
    "lda_model = LdaModel(corpus=corpus,id2word=id2word,\n",
    "                                   num_topics=10, \n",
    "                                   random_state=100,\n",
    "                                   update_every=1,\n",
    "                                   chunksize=100,\n",
    "                                   passes=10,\n",
    "                                   alpha='auto',\n",
    "                                   per_word_topics=True)"
   ]
  },
  {
   "cell_type": "markdown",
   "metadata": {},
   "source": [
    "# Affichage des sujets dans le modèle LDA\n",
    "Le modèle LDA ci-dessus est construit avec **20 sujets** différents où chaque sujet est une combinaison de mots-clés et chaque mot-clé contribue à un certain poids au sujet.\n",
    "\n",
    "Vous pouvez voir les mots clés pour chaque sujet et la pondération (l'importance d'un mot clé pour ce sujet.) de chaque mot clé en utilisant la fonction *lda_model.print_topics()*"
   ]
  },
  {
   "cell_type": "code",
   "execution_count": 22,
   "metadata": {},
   "outputs": [
    {
     "name": "stdout",
     "output_type": "stream",
     "text": [
      "[(0,\n",
      "  '0.020*\"passer\" + 0.019*\"encore\" + 0.014*\"conference\" + 0.013*\"region\" + '\n",
      "  '0.012*\"pourquoi\" + 0.012*\"moroccowatch\" + 0.012*\"choisir\" + 0.011*\"partie\" '\n",
      "  '+ 0.011*\"forum\" + 0.011*\"ecole\"'),\n",
      " (1,\n",
      "  '0.047*\"femme\" + 0.024*\"visite\" + 0.024*\"developpement\" + '\n",
      "  '0.021*\"gouvernement\" + 0.020*\"education\" + 0.018*\"non\" + 0.018*\"entreprise\" '\n",
      "  '+ 0.016*\"droit\" + 0.015*\"occasion\" + 0.014*\"organiser\"'),\n",
      " (2,\n",
      "  '0.048*\"national\" + 0.047*\"affaire\" + 0.030*\"culture\" + 0.022*\"art\" + '\n",
      "  '0.020*\"prison\" + 0.016*\"euro\" + 0.013*\"securite\" + 0.013*\"prochain\" + '\n",
      "  '0.012*\"cause\" + 0.012*\"mediapart\"'),\n",
      " (3,\n",
      "  '0.106*\"algerie\" + 0.047*\"faire\" + 0.039*\"emploi\" + 0.024*\"combien_faire\" + '\n",
      "  '0.016*\"aussi\" + 0.013*\"bon\" + 0.013*\"autre\" + 0.013*\"proposer_demarche\" + '\n",
      "  '0.013*\"souverainete_juridiqu\" + 0.013*\"humain_respectueux\"'),\n",
      " (4,\n",
      "  '0.018*\"africain\" + 0.016*\"casablanca\" + 0.013*\"aider_fair\" + '\n",
      "  '0.013*\"enfant_algerie\" + 0.013*\"prise_charg\" + 0.013*\"connaitre_caus\" + '\n",
      "  '0.013*\"please_kafala\" + 0.013*\"dependre_pleas\" + 0.013*\"ensemble_donner\" + '\n",
      "  '0.013*\"projet\"'),\n",
      " (5,\n",
      "  '0.043*\"nouveau\" + 0.025*\"international\" + 0.017*\"rabattre\" + 0.015*\"ligne\" '\n",
      "  '+ 0.015*\"service\" + 0.015*\"equipe\" + 0.015*\"merci\" + 0.014*\"peuple\" + '\n",
      "  '0.013*\"prendre\" + 0.013*\"convention\"'),\n",
      " (6,\n",
      "  '0.019*\"an\" + 0.019*\"construction_industrie\" + 0.017*\"premier\" + '\n",
      "  '0.015*\"dire\" + 0.014*\"tout\" + 0.013*\"ville\" + 0.012*\"mettre\" + '\n",
      "  '0.010*\"rendre\" + 0.010*\"pouvoir\" + 0.010*\"partir\"'),\n",
      " (7,\n",
      "  '0.080*\"plus\" + 0.023*\"accord\" + 0.021*\"enfant\" + 0.021*\"mohamed\" + '\n",
      "  '0.020*\"formation\" + 0.019*\"partenariat\" + 0.015*\"autour\" + 0.014*\"vivre\" + '\n",
      "  '0.011*\"lancer\" + 0.011*\"public\"'),\n",
      " (8,\n",
      "  '0.037*\"jour\" + 0.026*\"grand\" + 0.024*\"bien\" + 0.022*\"retour\" + 0.020*\"etat\" '\n",
      "  '+ 0.017*\"homme\" + 0.016*\"senegal\" + 0.012*\"local\" + 0.012*\"connaitre\" + '\n",
      "  '0.012*\"cash\"'),\n",
      " (9,\n",
      "  '0.073*\"com\" + 0.023*\"pays\" + 0.019*\"politique\" + 0.017*\"pic_twitter\" + '\n",
      "  '0.013*\"groupe\" + 0.013*\"voir\" + 0.011*\"fevrier\" + 0.009*\"toujours\" + '\n",
      "  '0.009*\"mars\" + 0.009*\"mois\"')]\n"
     ]
    }
   ],
   "source": [
    "# Print the Keyword in the 10 topics\n",
    "pprint(lda_model.print_topics())\n",
    "doc_lda = lda_model[corpus]"
   ]
  },
  {
   "cell_type": "markdown",
   "metadata": {},
   "source": [
    "#  Calcul du score de perplexité et de cohérence du modèle :\n",
    "La perplexité du modèle et la cohérence des sujets constituent une mesure pratique pour juger de la qualité d'un modèle de sujet donné surout le score de cohérence des sujets, en particulier,est plus utile."
   ]
  },
  {
   "cell_type": "code",
   "execution_count": 16,
   "metadata": {},
   "outputs": [
    {
     "name": "stdout",
     "output_type": "stream",
     "text": [
      "\n",
      "Perplexity:  -27.365660699789633\n",
      "\n",
      "Coherence Score:  0.3692097648726343\n"
     ]
    }
   ],
   "source": [
    "# Compute Perplexity\n",
    "print('\\nPerplexity: ', lda_model.log_perplexity(corpus))  #une mesure de la qualité du modèle. abaisser le mieux.\n",
    "\n",
    "# Compute Coherence Score\n",
    "coherence_model_lda = CoherenceModel(model=lda_model, texts=data_lemmatized, dictionary=id2word, coherence='c_v')\n",
    "coherence_lda = coherence_model_lda.get_coherence()\n",
    "print('\\nCoherence Score: ', coherence_lda)"
   ]
  },
  {
   "cell_type": "markdown",
   "metadata": {},
   "source": [
    "# Visualisatio des mots-clés des sujets\n",
    "Maintenant que le modèle LDA est construit, l'étape suivante consiste à examiner les sujets produits et les mots clés associés. Il n'y a pas de meilleur outil que le graphique interactif du package pyLDAvis et est conçu pour bien fonctionner avec les cahiers jupyter."
   ]
  },
  {
   "cell_type": "code",
   "execution_count": 15,
   "metadata": {},
   "outputs": [
    {
     "name": "stderr",
     "output_type": "stream",
     "text": [
      "/usr/local/lib/python3.5/dist-packages/pyLDAvis/_prepare.py:257: FutureWarning: Sorting because non-concatenation axis is not aligned. A future version\n",
      "of pandas will change to not sort by default.\n",
      "\n",
      "To accept the future behavior, pass 'sort=False'.\n",
      "\n",
      "To retain the current behavior and silence the warning, pass 'sort=True'.\n",
      "\n",
      "  return pd.concat([default_term_info] + list(topic_dfs))\n"
     ]
    },
    {
     "data": {
      "text/html": [
       "\n",
       "<link rel=\"stylesheet\" type=\"text/css\" href=\"https://cdn.rawgit.com/bmabey/pyLDAvis/files/ldavis.v1.0.0.css\">\n",
       "\n",
       "\n",
       "<div id=\"ldavis_el20271404975741115367941243302\"></div>\n",
       "<script type=\"text/javascript\">\n",
       "\n",
       "var ldavis_el20271404975741115367941243302_data = {\"topic.order\": [14, 19, 7, 8, 18, 20, 15, 10, 12, 17, 16, 5, 9, 6, 13, 11, 3, 1, 4, 2], \"tinfo\": {\"Term\": [\"international\", \"securit\", \"roi_mohammed\", \"espagnol\", \"groupe\", \"direction\", \"ministre\", \"plus\", \"venir\", \"faire\", \"nouveau\", \"apre\", \"service\", \"suite\", \"pays\", \"region\", \"gouvernement\", \"ville\", \"lors\", \"degre\", \"alors\", \"meteorologie_national\", \"message\", \"chef\", \"an\", \"royaum\", \"occasion\", \"mettre\", \"partir\", \"police\", \"an\", \"occasion\", \"pre\", \"encore\", \"aller\", \"eter\", \"affaire\", \"etat\", \"public\", \"commission\", \"droit\", \"sante\", \"nomination\", \"propos\", \"poste\", \"local\", \"personnel\", \"peuple\", \"saisir\", \"conseiller\", \"britannique\", \"beaucoup\", \"quitter\", \"sidi\", \"equipe\", \"sortir\", \"destination\", \"budget\", \"secteur\", \"besoin\", \"apre\", \"international\", \"notamment\", \"projet\", \"mois\", \"compagnie\", \"cause\", \"loi\", \"prendre\", \"accord\", \"presse\", \"mouvement\", \"relation\", \"point\", \"aeroport\", \"fort\", \"rencontre\", \"finance\", \"signe\", \"article\", \"social\", \"renforcer\", \"vol\", \"cooperation\", \"accueillir\", \"entendre\", \"modification\", \"discuter\", \"autour\", \"visite_officiell\", \"economiqu\", \"faire\", \"ville\", \"mercredi\", \"personne\", \"jour\", \"affirme\", \"ambassadeur\", \"vi_vier\", \"jusqu\", \"examen\", \"conference\", \"situation\", \"ouvrir\", \"chambre\", \"afriqu\", \"parlementaire\", \"football\", \"ii\", \"representant\", \"sanction\", \"decouvert\", \"novembre\", \"tenue\", \"mine\", \"don\", \"commemoration\", \"intervenir\", \"plus_grand\", \"revue\", \"complexe\", \"suite\", \"rabattre\", \"education_national\", \"samedi\", \"moins\", \"condoleance\", \"arme\", \"officiel\", \"lieu\", \"permettre\", \"concerner\", \"minister\", \"compassion\", \"raison\", \"ordre\", \"agent\", \"non\", \"air\", \"frontiere\", \"enfant\", \"ambassade\", \"presence\", \"loin\", \"dece\", \"horaire\", \"donnee\", \"islam\", \"saoudien\", \"haut\", \"acte\", \"securit\", \"nouveau\", \"annoncer\", \"administration\", \"decision\", \"president\", \"compte\", \"important\", \"francai\", \"effet\", \"hausse\", \"frais\", \"eleve\", \"espagne\", \"declaration\", \"responsabilite\", \"definitivement\", \"parent\", \"etablissement\", \"congre\", \"retir\", \"cite\", \"course\", \"armement\", \"lance\", \"etude\", \"communique\", \"pelerinage\", \"vient_annoncer\", \"conna\\u00eetre\", \"plusieurs_region\", \"dimanche\", \"egalement\", \"hier\", \"plus\", \"alors\", \"dernier\", \"prochain\", \"sein\", \"payer\", \"millier\", \"heure\", \"element\", \"systeme\", \"classe\", \"chaine\", \"prix\", \"arrestation\", \"developpement\", \"communication\", \"parfois\", \"gestion\", \"juif\", \"terme\", \"age\", \"satellite\", \"individu\", \"eme\", \"regagner\", \"financier\", \"ameliorer\", \"domicile\", \"suicide\", \"retrouve\", \"national\", \"police\", \"rendre\", \"autre\", \"part\", \"tenir\", \"site\", \"membre\", \"marrakech\", \"bord\", \"industrie\", \"petit\", \"reunion\", \"offrir\", \"concerne\", \"recherche\", \"choisir\", \"prise\", \"retrouver\", \"tel\", \"moyen_orier\", \"interpol\", \"activite\", \"visa\", \"apre\", \"large\", \"cependant\", \"mobilisation\", \"equipage\", \"obtention\", \"instar\", \"lors\", \"militaire\", \"equipement\", \"sahara\", \"mort\", \"operation\", \"nombreux\", \"prevue\", \"royal\", \"donne\", \"justice\", \"adresse\", \"rumeur\", \"plan\", \"emmanuel_macron\", \"prochainement\", \"soutien\", \"fonctionnaire\", \"missile\", \"dossier\", \"passage\", \"carte\", \"acquisition\", \"propose\", \"particulier\", \"departement\", \"serieux\", \"transport\", \"radio\", \"pelerinage\", \"route\", \"etude\", \"roi_mohammed\", \"message\", \"algerie\", \"tete\", \"prive\", \"soiree\", \"vi_rendu\", \"investitur\", \"nouveau_president\", \"photo\", \"anniversaire\", \"president_algerien\", \"reseaux_social\", \"nouvelle_photo\", \"voici\", \"hier\", \"princesse_lalla\", \"coeur\", \"discours\", \"adresser\", \"abdelaziz_bouteflika\", \"famille\", \"soir\", \"avion\", \"reseaux_sociaux\", \"hopital\", \"depuis_hier\", \"felicitation\", \"vi_decid\", \"publiee\", \"vendredi\", \"communique\", \"transport\", \"matin\", \"lance\", \"etude\", \"course\", \"armement\", \"cite\", \"gouvernement\", \"chef\", \"annee\", \"cadre\", \"eau\", \"nombre\", \"lancer\", \"el_othmani\", \"conseil\", \"cette_annee\", \"fonction\", \"superieur\", \"principal\", \"milliard\", \"journaliste\", \"capital\", \"taux\", \"presidence\", \"situee\", \"biens_appartenant\", \"effectue\", \"c\\u0153ur\", \"effectif\", \"blanchiment\", \"etabli\", \"developpemer\", \"disponibilite\", \"enseignement\", \"plage\", \"voici\", \"fin\", \"passer\", \"tout\", \"ministre\", \"region\", \"partir\", \"charge\", \"nord\", \"continue\", \"vague\", \"arabe\", \"justic\", \"exprimer\", \"circulaire\", \"depute\", \"conduite\", \"traduire\", \"intervention\", \"clarification\", \"partis_politique\", \"e\", \"dirigeant\", \"obliger\", \"precisement\", \"amendement\", \"reconciliation_historiqu\", \"demain\", \"interieur\", \"emploi\", \"agriculture\", \"cinq_nouveau\", \"recemment\", \"meeting\", \"actuellement\", \"neige\", \"hier\", \"autorite\", \"communique\", \"etude\", \"armement\", \"venir\", \"service\", \"mettre\", \"publier\", \"direction_generale\", \"ligne\", \"surete_national\", \"mondial\", \"manifestation\", \"secretaire_etat\", \"objectif\", \"signer\", \"fournir\", \"plateforme\", \"accompagner\", \"contrat\", \"numeriqu\", \"electronique\", \"surete_nationale\", \"nouvelle_fois\", \"fin\", \"honneur\", \"faux\", \"entreprise\", \"dernier_classement\", \"facebook\", \"rappeler\", \"professeur\", \"developpement_durabl\", \"prevenir\", \"communique\", \"jeune\", \"indique\", \"tout\", \"resultat\", \"lance\", \"armement\", \"etude\", \"course\", \"direction\", \"meteorologie_national\", \"neig\", \"vent\", \"froid\", \"ainsi\", \"pluie\", \"confirme\", \"bonne_partie\", \"inscrire\", \"monde\", \"programme\", \"arrive\", \"risque\", \"toucher\", \"sale\", \"inauguration\", \"consommateur\", \"deplacement\", \"decembre\", \"source\", \"energie\", \"beau\", \"europeenn\", \"chuter\", \"action\", \"domaine\", \"caserne\", \"fixe\", \"sportif\", \"espagnol\", \"groupe\", \"espagn\", \"procureur\", \"surveillance\", \"terrorisme\", \"audience\", \"general\", \"territoir\", \"invite\", \"cellule_terroriste\", \"post\", \"commun\", \"reussi\", \"effort\", \"appartenir\", \"merite\", \"direction_general\", \"polic\", \"collaboration\", \"etat_islamiqu\", \"parquet\", \"course\", \"lance\", \"cite\", \"armement\", \"etude\", \"prison\", \"vitess\", \"contrainte\", \"differents_tribunal\", \"inviter\", \"corps\", \"envoye\", \"automobiliste\", \"encontr\", \"eviter\", \"royaum\", \"million\", \"mise\", \"niveau\", \"dirhams\", \"travail\", \"centre\", \"trafic\", \"mieux\", \"representer\", \"installation\", \"cote\", \"global\", \"present\", \"maritime\", \"cout\", \"investissement\", \"terrain\", \"sport\", \"jeuness\", \"finalise\", \"construction\", \"vient_indiquer\", \"hopital\", \"investi\", \"inaugure_hier\", \"prefectoral\", \"environ\", \"reseau\", \"bus\", \"vitesse\", \"neige\", \"indique\", \"victime\", \"plusieurs_region\", \"jeune\", \"photo\", \"degre\", \"mardi\", \"premier\", \"voir\", \"politique\", \"zone\", \"secretaire_general\", \"magnitude\", \"participation\", \"quant\", \"touch\", \"richter\", \"inaugure\", \"national\", \"expert\", \"echell\", \"leger_tremblement\", \"magnitud\", \"terre\", \"temperatures_depasser\", \"tarouder\", \"largement\", \"plusieurs_region\", \"endroit\", \"provinc\", \"temperature\", \"journee\", \"depasser\", \"retour\", \"chaleur\", \"produire\", \"photo\", \"alerte\", \"pays\", \"place\", \"royaume\", \"effectuer\", \"suisse\", \"garde\", \"protection\", \"total\", \"president_francai\", \"appareil\", \"aerienn\", \"vise\", \"climat\", \"note\", \"entretien\", \"sauvetage\", \"sahraouie_democratiqu\", \"sejour\", \"attribue\", \"republique_arab\", \"positionn\", \"atterrir\", \"cette_semaine\", \"reception\", \"index\", \"position\", \"pacifique\", \"sur\", \"annee_dernier\", \"analyse\", \"vi\", \"visite\", \"americain\", \"securite\", \"etats_uni\", \"agir\", \"assurer\", \"poursuivre\", \"egypte\", \"marge\", \"preparatif\", \"\\u0153uvrer\", \"princesse_lalla\", \"mobilise\", \"policier\", \"plusieurs_dizaine\", \"trouve\", \"cadeau\", \"parti_socialist\", \"reseaux_social\", \"surete_nationale\", \"protocole\", \"prouver\", \"regulierement\", \"bureau\", \"chars_abram\", \"recevoir\", \"enfin\", \"categorie\", \"armeer\", \"anniversaire\", \"photo\", \"toujours\", \"rapport\", \"actuellement\", \"tre\", \"ete\", \"organisation\", \"candidat\", \"peu\", \"dire\", \"gare\", \"tour\", \"unesco\", \"acceder\", \"matiere\", \"environnement\", \"surtout\", \"touriste\", \"bonheur\", \"changer\", \"habitant\", \"grand\", \"onu\", \"hotel\", \"titre\", \"image\", \"judiciaire\", \"baccalaureat\", \"magistrat\", \"attaque\", \"blesse\", \"accident\", \"candidatur\", \"vote\", \"vendredi\", \"jeudi\", \"reform\", \"passer\", \"hier\", \"enseignement\", \"indique\", \"lundi\", \"attendre\", \"chute\", \"affaires_etrangere\", \"rafale\", \"question\", \"diffusion\", \"mars\", \"province\", \"bon_nombre\", \"demain\", \"plusieurs_region\", \"mauvais_temp\", \"temperatures_largement\", \"averses_orageuse\", \"degr\", \"meteo\", \"dessous\", \"nouvelle_alerte\", \"temperature\", \"magnitud\", \"leger_tremblement\", \"terre\", \"annulation\", \"fevrier\", \"bonne_parti\", \"actuellement\", \"atteindre\", \"journee\", \"produite\", \"tromb\", \"apres_quelque\", \"vendredi\", \"alerte\", \"egalement\", \"tout\", \"hier\", \"neige\"], \"loglift\": [30.0, 29.0, 28.0, 27.0, 26.0, 25.0, 24.0, 23.0, 22.0, 21.0, 20.0, 19.0, 18.0, 17.0, 16.0, 15.0, 14.0, 13.0, 12.0, 11.0, 10.0, 9.0, 8.0, 7.0, 6.0, 5.0, 4.0, 3.0, 2.0, 1.0, 2.4328999519348145, 2.432300090789795, 2.4312000274658203, 2.4286999702453613, 2.4238998889923096, 2.42330002784729, 2.4161999225616455, 2.4112000465393066, 2.4047000408172607, 2.403700113296509, 2.4005000591278076, 2.395400047302246, 2.3910999298095703, 2.388700008392334, 2.3886001110076904, 2.386199951171875, 2.384999990463257, 2.3671000003814697, 2.3650999069213867, 2.364300012588501, 2.3529000282287598, 2.3515000343322754, 2.3482000827789307, 2.3394999504089355, 2.308500051498413, 2.307499885559082, 2.3050999641418457, 2.3006999492645264, 2.297600030899048, 2.276900053024292, 1.4305000305175781, 2.4951000213623047, 2.4735000133514404, 2.4719998836517334, 2.4600000381469727, 2.4572999477386475, 2.4540998935699463, 2.446000099182129, 2.4435999393463135, 2.4384000301361084, 2.4172000885009766, 2.412100076675415, 2.4007999897003174, 2.3959999084472656, 2.3940000534057617, 2.3819000720977783, 2.3694000244140625, 2.3659000396728516, 2.356100082397461, 2.3531999588012695, 2.3310000896453857, 2.31820011138916, 2.305500030517578, 2.2699999809265137, 2.233099937438965, 2.2321999073028564, 2.2304000854492188, 2.2190001010894775, 2.1960999965667725, 2.1633999347686768, 2.1556999683380127, 2.642199993133545, 2.638700008392334, 2.633500099182129, 2.6317999362945557, 2.630500078201294, 2.6238999366760254, 2.6131999492645264, 2.612299919128418, 2.609800100326538, 2.6022000312805176, 2.591900110244751, 2.591200113296509, 2.5864999294281006, 2.55679988861084, 2.5371999740600586, 2.5288000106811523, 2.525599956512451, 2.516200065612793, 2.485599994659424, 2.485300064086914, 2.419300079345703, 2.415299892425537, 2.346299886703491, 2.3334999084472656, 2.3203999996185303, 2.2999000549316406, 2.140700101852417, 1.9616999626159668, 1.9254000186920166, 1.836899995803833, 2.661400079727173, 2.6514999866485596, 2.640700101852417, 2.640500068664551, 2.63700008392334, 2.6345999240875244, 2.6298999786376953, 2.627500057220459, 2.6257998943328857, 2.6249001026153564, 2.624799966812134, 2.621000051498413, 2.6189000606536865, 2.6150999069213867, 2.6126999855041504, 2.609299898147583, 2.608299970626831, 2.6047000885009766, 2.59089994430542, 2.5880000591278076, 2.578000068664551, 2.568000078201294, 2.5660998821258545, 2.565500020980835, 2.5480000972747803, 2.547600030899048, 2.5201001167297363, 2.515399932861328, 2.5011000633239746, 2.4979000091552734, 2.7149999141693115, 2.705399990081787, 2.6935999393463135, 2.6677000522613525, 2.6559998989105225, 2.653899908065796, 2.6524999141693115, 2.649199962615967, 2.636699914932251, 2.5959999561309814, 2.555299997329712, 2.5494000911712646, 2.5480000972747803, 2.5313000679016113, 2.4595000743865967, 2.425100088119507, 2.3682000637054443, 2.2228000164031982, 2.205699920654297, 1.9290000200271606, 1.3151999711990356, -0.40310001373291016, -0.40310001373291016, -0.40310001373291016, -0.40310001373291016, -0.4032000005245209, -0.4124999940395355, -0.4124999940395355, -0.4124999940395355, -0.41260001063346863, -0.41260001063346863, -0.41260001063346863, -0.41260001063346863, -0.41269999742507935, 2.767199993133545, 2.7606000900268555, 2.745500087738037, 2.7281999588012695, 2.724400043487549, 2.723400115966797, 2.722899913787842, 2.70989990234375, 2.7065999507904053, 2.69950008392334, 2.6975998878479004, 2.6942999362945557, 2.6844000816345215, 2.6742000579833984, 2.6470999717712402, 2.646699905395508, 2.6465001106262207, 2.6361000537872314, 2.6259000301361084, 2.6233999729156494, 2.6110999584198, 2.603300094604492, 2.5996999740600586, 2.591900110244751, 2.533900022506714, 2.5315001010894775, 2.4814000129699707, 2.3510000705718994, 2.2665998935699463, 2.223599910736084, 2.0418999195098877, 2.833199977874756, 2.8276000022888184, 2.821700096130371, 2.8203999996185303, 2.8183999061584473, 2.8024001121520996, 2.795799970626831, 2.793800115585327, 2.7887001037597656, 2.783900022506714, 2.756999969482422, 2.7565999031066895, 2.7553000450134277, 2.74399995803833, 2.7019999027252197, 2.697499990463257, 2.695499897003174, 2.6547000408172607, 2.5994999408721924, 2.58870005607605, 2.560699939727783, 2.5499000549316406, 2.508500099182129, 2.392899990081787, 2.2660999298095703, 2.2641000747680664, 2.1535000801086426, 2.137200117111206, 2.115999937057495, 2.0829999446868896, 2.881999969482422, 2.870699882507324, 2.8684000968933105, 2.8635001182556152, 2.8585000038146973, 2.8489999771118164, 2.84689998626709, 2.8452000617980957, 2.840399980545044, 2.829200029373169, 2.821899890899658, 2.820499897003174, 2.8087000846862793, 2.803499937057495, 2.7985999584198, 2.7983999252319336, 2.795300006866455, 2.791800022125244, 2.770900011062622, 2.729599952697754, 2.722599983215332, 2.634999990463257, 2.613800048828125, 2.5541000366210938, 2.297499895095825, 1.9031000137329102, 1.8137999773025513, 0.0608999989926815, 0.0608999989926815, 0.0608999989926815, 0.0608999989926815, 0.058800000697374344, 2.929800033569336, 2.9147000312805176, 2.8940999507904053, 2.8178000450134277, 2.6159000396728516, 2.484100103378296, 2.3554000854492188, 2.046099901199341, 1.9728000164031982, -0.061500001698732376, -0.0617000013589859, -0.0617000013589859, -0.0617000013589859, -0.061799999326467514, -0.061799999326467514, -0.061799999326467514, -0.061799999326467514, -0.061799999326467514, -0.061799999326467514, -0.061799999326467514, -0.061799999326467514, -0.061799999326467514, -0.061900001019239426, -0.061900001019239426, -0.061900001019239426, -0.061900001019239426, -0.061900001019239426, -0.061900001019239426, -0.061900001019239426, -0.06199999898672104, -0.06199999898672104, -0.06199999898672104, -0.06210000067949295, -0.06199999898672104, -0.06400000303983688, -0.06400000303983688, -0.06390000134706497, -0.06400000303983688, -0.06390000134706497, 2.9732000827789307, 2.9691998958587646, 2.9586000442504883, 2.951200008392334, 2.93179988861084, 2.924799919128418, 2.9238998889923096, 2.911099910736084, 2.907399892807007, 2.9026999473571777, 2.857800006866455, 2.843100070953369, 2.834399938583374, 2.8106000423431396, 2.8085999488830566, 2.7641000747680664, 2.751300096511841, 2.7028000354766846, 2.66729998588562, 2.4286000728607178, 2.3954999446868896, 2.3355000019073486, 2.303299903869629, 2.2200000286102295, 2.1421000957489014, 2.1149001121520996, 2.1050000190734863, 0.20469999313354492, 0.20469999313354492, 0.20469999313354492, 0.2046000063419342, 0.2046000063419342, 0.2045000046491623, 2.9802000522613525, 2.9737000465393066, 2.9677000045776367, 2.952899932861328, 2.9498000144958496, 2.940200090408325, 2.933500051498413, 2.9066998958587646, 2.870300054550171, 2.8443000316619873, 2.830399990081787, 2.8036000728607178, 2.7962000370025635, 2.7335000038146973, 2.662600040435791, 2.6440000534057617, 2.6164000034332275, 2.4686999320983887, 2.3929998874664307, 2.187700033187866, 1.919100046157837, 1.819700002670288, 1.6654000282287598, 0.03310000151395798, 0.032999999821186066, 0.032999999821186066, 0.032999999821186066, 0.032999999821186066, 0.032999999821186066, 0.03290000185370445, 0.03290000185370445, 0.03290000185370445, 0.03280000016093254, 0.03280000016093254, 0.03280000016093254, 0.03099999949336052, 0.030899999663233757, 2.9972000122070312, 2.9946000576019287, 2.987799882888794, 2.986299991607666, 2.9721999168395996, 2.931299924850464, 2.902600049972534, 2.8933000564575195, 2.8894999027252197, 2.8868000507354736, 2.8861000537872314, 2.8271000385284424, 2.77839994430542, 2.7651000022888184, 2.66129994392395, 2.658400058746338, 2.2737998962402344, 2.065999984741211, 0.09489999711513519, 0.09480000287294388, 0.09480000287294388, 0.09470000118017197, 0.09470000118017197, 0.09470000118017197, 0.09470000118017197, 0.09459999948740005, 0.09459999948740005, 0.09459999948740005, 0.09459999948740005, 0.09459999948740005, 0.09459999948740005, 0.09459999948740005, 0.09459999948740005, 0.09449999779462814, 0.09459999948740005, 0.09260000288486481, 0.09260000288486481, 0.0925000011920929, 0.09260000288486481, 3.0174999237060547, 3.007200002670288, 2.9923999309539795, 2.982800006866455, 2.978100061416626, 2.976599931716919, 2.921600103378296, 2.9077999591827393, 2.9026999473571777, 2.8845999240875244, 2.879300117492676, 2.870699882507324, 2.857800006866455, 2.852400064468384, 2.8004000186920166, 2.761899948120117, 2.734999895095825, 2.7211999893188477, 2.7211999893188477, 2.697700023651123, 2.696700096130371, 2.6828999519348145, 2.6644999980926514, 2.644200086593628, 2.6405999660491943, 2.6175999641418457, 2.61080002784729, 2.386899948120117, 2.378000020980835, 2.0776000022888184, 3.3596999645233154, 3.359600067138672, 3.184299945831299, 3.1273000240325928, 3.0915000438690186, 3.033600091934204, 3.0297999382019043, 2.9658000469207764, 2.9491000175476074, 2.944000005722046, 2.8668999671936035, 2.8577001094818115, 2.841399908065796, 2.827199935913086, 2.692699909210205, 2.620300054550171, 2.519200086593628, 2.516400098800659, 2.4119999408721924, 2.0573999881744385, 1.858199954032898, 1.6333999633789062, -0.5424000024795532, -0.5424000024795532, -0.5424000024795532, -0.5425000190734863, -0.5425000190734863, -0.5745999813079834, -0.5745999813079834, -0.5745999813079834, -0.5745999813079834, -0.5745999813079834, -0.5745999813079834, -0.5745999813079834, -0.5745999813079834, -0.5746999979019165, -0.5746999979019165, 3.3575000762939453, 3.3350000381469727, 3.3345999717712402, 3.325200080871582, 3.32450008392334, 3.3080999851226807, 3.297499895095825, 3.279599905014038, 3.245699882507324, 3.240600109100342, 3.238800048828125, 3.2258999347686768, 3.2014999389648438, 3.1672000885009766, 2.6791000366210938, 1.9730000495910645, 0.2630000114440918, 0.2628999948501587, 0.2628999948501587, 0.2628999948501587, 0.2628999948501587, 0.2628999948501587, 0.2628999948501587, 0.2628999948501587, 0.2628999948501587, 0.262800008058548, 0.262800008058548, 0.262800008058548, 0.262800008058548, 0.262800008058548, 0.262800008058548, 0.262800008058548, 0.26269999146461487, 0.262800008058548, 0.26260000467300415, 0.26269999146461487, 0.26269999146461487, 3.463200092315674, 3.442699909210205, 3.438999891281128, 3.40910005569458, 3.3824000358581543, 3.375200033187866, 3.3740999698638916, 3.349100112915039, 3.342099905014038, 3.282399892807007, 3.2685999870300293, 3.240299940109253, 2.851300001144409, 2.7395999431610107, 2.0064001083374023, 0.2590000033378601, 0.25870001316070557, 0.25870001316070557, 0.25870001316070557, 0.25859999656677246, 0.25850000977516174, 0.25850000977516174, 0.25850000977516174, 0.25850000977516174, 0.25850000977516174, 0.25839999318122864, 0.25839999318122864, 0.25839999318122864, 0.25839999318122864, 0.25839999318122864, 0.25839999318122864, 0.2583000063896179, 0.2583000063896179, 3.499500036239624, 3.4783999919891357, 3.4063000679016113, 3.401599884033203, 3.367500066757202, 3.3457999229431152, 3.321000099182129, 3.302500009536743, 3.2267000675201416, 3.2116000652313232, 3.1577000617980957, 3.156899929046631, 3.098299980163574, 3.0971999168395996, 2.953700065612793, 2.937700033187866, 2.841399908065796, 2.766700029373169, 2.7632999420166016, 2.5106000900268555, 2.421299934387207, 2.420099973678589, 2.208400011062622, 2.1054000854492188, 0.37389999628067017, 0.37389999628067017, 0.37380000948905945, 0.37380000948905945, 0.37380000948905945, 0.37380000948905945, 3.6273000240325928, 3.608599901199341, 3.6026999950408936, 3.5450000762939453, 3.525700092315674, 3.500999927520752, 3.4391000270843506, 3.3378000259399414, 3.3046000003814697, 2.963399887084961, 2.503700017929077, 1.9850000143051147, 0.4327000081539154, 0.4325999915599823, 0.4325999915599823, 0.4325999915599823, 0.4325999915599823, 0.4325999915599823, 0.4325999915599823, 0.4325999915599823, 0.4325999915599823, 0.4325999915599823, 0.4325999915599823, 0.4325000047683716, 0.4325000047683716, 0.4325000047683716, 0.4325000047683716, 0.4325000047683716, 0.4325000047683716, 0.4325000047683716, 0.4325000047683716, 0.4325000047683716, 0.4325000047683716, 0.4325000047683716, 0.4323999881744385, 3.698499917984009, 3.691999912261963, 3.6589999198913574, 3.609800100326538, 3.600100040435791, 3.5506999492645264, 3.47160005569458, 3.17330002784729, 2.8392999172210693, 2.523400068283081, 0.4327000081539154, 0.4325999915599823, 0.4325999915599823, 0.4325999915599823, 0.4325999915599823, 0.4325999915599823, 0.4325999915599823, 0.4325000047683716, 0.4325000047683716, 0.4325000047683716, 0.4325000047683716, 0.4323999881744385, 0.4323999881744385, 0.4323999881744385, 0.4323999881744385, 0.4323999881744385, 0.4323999881744385, 0.4323999881744385, 0.4323999881744385, 0.4323999881744385, 0.43230000138282776, 0.4323999881744385, 0.4323999881744385, 0.4323999881744385, 0.43220001459121704, 0.4323999881744385, 0.43230000138282776, 3.8024001121520996, 3.796600103378296, 3.778899908065796, 3.77810001373291, 3.7637999057769775, 3.753700017929077, 3.5274999141693115, 3.5206000804901123, 3.5172998905181885, 2.594599962234497, 0.3296000063419342, 0.3296000063419342, 0.3296000063419342, 0.3294999897480011, 0.3294999897480011, 0.3294999897480011, 0.3294999897480011, 0.3294999897480011, 0.3294999897480011, 0.3294000029563904, 0.3294000029563904, 0.3294000029563904, 0.3294000029563904, 0.3294000029563904, 0.3294000029563904, 0.3294000029563904, 0.3294000029563904, 0.3294000029563904, 0.3294000029563904, 0.3294000029563904, 0.3294000029563904, 0.3294000029563904, 0.3292999863624573, 0.3292999863624573, 0.3292999863624573, 0.32919999957084656, 0.32919999957084656, 0.3292999863624573], \"Total\": [628.0, 520.0, 462.0, 228.0, 226.0, 175.0, 153.0, 147.0, 118.0, 130.0, 124.0, 152.0, 98.0, 110.0, 80.0, 93.0, 91.0, 101.0, 89.0, 70.0, 90.0, 81.0, 84.0, 74.0, 90.0, 60.0, 87.0, 69.0, 69.0, 70.0, 90.80567169189453, 87.95240783691406, 82.61632537841797, 73.10377502441406, 59.41270446777344, 58.084903717041016, 45.95071029663086, 40.069358825683594, 34.36249923706055, 33.64572525024414, 31.493473052978516, 28.638599395751953, 26.5720157623291, 25.557159423828125, 25.530986785888672, 24.568288803100586, 24.135604858398438, 19.06736946105957, 18.642578125, 18.47832679748535, 16.38536262512207, 16.168476104736328, 15.668013572692871, 14.4924955368042, 11.476119041442871, 11.405329704284668, 11.225939750671387, 10.91956615447998, 10.713067054748535, 9.522575378417969, 152.8879852294922, 628.7096557617188, 65.23816680908203, 61.62661361694336, 42.12055206298828, 39.34628677368164, 36.49307632446289, 30.86859893798828, 29.546489715576172, 26.998332977294922, 20.089218139648438, 18.949609756469727, 16.830162048339844, 16.06784439086914, 15.765138626098633, 14.20382022857666, 12.897223472595215, 12.575810432434082, 11.76319694519043, 11.540617942810059, 10.113652229309082, 9.448101997375488, 8.876320838928223, 7.621185779571533, 6.674990177154541, 6.657124996185303, 6.617125034332275, 6.379991054534912, 5.960062503814697, 5.4613189697265625, 5.357219696044922, 130.83612060546875, 101.06671905517578, 75.44574737548828, 69.73046875, 65.95120239257812, 51.59538269042969, 38.23753356933594, 37.40206527709961, 35.35256576538086, 30.26742935180664, 25.3854923248291, 25.12457275390625, 23.40967559814453, 16.49486541748047, 13.862541198730469, 12.984484672546387, 12.676199913024902, 11.866218566894531, 9.860640525817871, 9.844634056091309, 7.302496433258057, 7.195875644683838, 5.767782688140869, 5.571700572967529, 5.385237216949463, 5.123224258422852, 3.8053817749023438, 3.0578970909118652, 2.952568531036377, 2.736412525177002, 110.30314636230469, 65.16145324707031, 45.09788131713867, 44.790584564208984, 40.78600311279297, 38.479095458984375, 34.533817291259766, 32.86905288696289, 31.771072387695312, 31.200782775878906, 31.18555450439453, 29.055204391479492, 27.988834381103516, 26.292766571044922, 25.281688690185547, 24.04358673095703, 23.706684112548828, 22.51481819152832, 18.977365493774414, 18.3644962310791, 16.558835983276367, 15.103747367858887, 14.852766990661621, 14.773069381713867, 12.854872703552246, 12.814602851867676, 10.688190460205078, 10.398568153381348, 9.611249923706055, 9.45052719116211, 520.0196533203125, 124.27018737792969, 64.7860107421875, 31.85066032409668, 26.020713806152344, 25.16994285583496, 24.65171241760254, 23.534326553344727, 20.031356811523438, 13.62204647064209, 10.42023754119873, 10.084009170532227, 10.005200386047363, 9.184605598449707, 6.869623184204102, 6.163162708282471, 5.301339149475098, 4.006850242614746, 3.903477668762207, 2.867481231689453, 2.075187921524048, 1.639926552772522, 1.6399462223052979, 1.6399539709091187, 1.6400014162063599, 1.640044093132019, 1.636715292930603, 1.6365083456039429, 1.6365368366241455, 1.6365514993667603, 1.6369035243988037, 1.6366842985153198, 1.636644959449768, 1.6368443965911865, 147.22860717773438, 90.33451080322266, 48.26823806762695, 31.67702865600586, 29.497501373291016, 28.96311378479004, 28.73219871520996, 23.345199584960938, 22.293834686279297, 20.357267379760742, 19.879365921020508, 19.12375831604004, 17.18016815185547, 15.561311721801758, 12.499008178710938, 12.467987060546875, 12.44489860534668, 11.592729568481445, 10.869906425476074, 10.704720497131348, 9.972172737121582, 9.56091594696045, 9.385965347290039, 9.025798797607422, 7.074702739715576, 7.013826370239258, 5.968371868133545, 4.4058732986450195, 3.8245716094970703, 3.597527027130127, 31.42268943786621, 70.4817123413086, 56.37972640991211, 46.67953109741211, 44.99357223510742, 42.49058151245117, 29.87825584411621, 26.629819869995117, 25.823766708374023, 23.873943328857422, 22.337318420410156, 16.43943214416504, 16.374479293823242, 16.166107177734375, 14.603322982788086, 10.821769714355469, 10.53679084777832, 10.412097930908203, 8.460522651672363, 6.812916278839111, 6.570418834686279, 6.025088787078857, 5.84203577041626, 5.246394157409668, 152.8879852294922, 3.4525671005249023, 3.44376802444458, 3.0478386878967285, 3.000115394592285, 2.9414916038513184, 2.856687545776367, 89.0418472290039, 54.364654541015625, 50.465511322021484, 43.68699264526367, 38.406131744384766, 31.306472778320312, 30.12212371826172, 29.179256439208984, 26.864471435546875, 22.70132064819336, 20.649066925048828, 20.30704116821289, 17.755901336669922, 16.837493896484375, 16.06057357788086, 16.03439712524414, 15.571282386779785, 15.094236373901367, 12.772311210632324, 9.864086151123047, 9.506367683410645, 6.629230976104736, 6.199906826019287, 5.276060581207275, 3.406804084777832, 2.4425129890441895, 2.326136827468872, 1.6367813348770142, 1.6364755630493164, 1.6365083456039429, 1.6366358995437622, 1.640044093132019, 462.8672790527344, 84.59314727783203, 40.58631134033203, 14.263129234313965, 5.718213081359863, 4.296931743621826, 3.5423226356506348, 2.6430106163024902, 2.5184240341186523, 1.6366980075836182, 1.6365247964859009, 1.636506199836731, 1.6365269422531128, 1.6365023851394653, 1.636579155921936, 1.6368443965911865, 1.6365309953689575, 1.6365821361541748, 1.6365150213241577, 1.636470913887024, 1.6364718675613403, 1.6365714073181152, 1.6365373134613037, 1.6365077495574951, 1.6364872455596924, 1.6365201473236084, 1.6364624500274658, 1.6364535093307495, 1.6364742517471313, 1.636460542678833, 1.63679838180542, 1.636715292930603, 1.6367813348770142, 1.6366029977798462, 1.6400014162063599, 1.640044093132019, 1.6399462223052979, 1.6399539709091187, 1.639926552772522, 91.49551391601562, 74.22766876220703, 49.51966094970703, 40.1835823059082, 27.093854904174805, 24.26978302001953, 23.94291114807129, 20.20333480834961, 19.343061447143555, 18.332035064697266, 12.389957427978516, 11.229336738586426, 10.649227142333984, 9.344825744628906, 9.250460624694824, 7.590732574462891, 7.226483345031738, 6.148909568786621, 5.564718246459961, 3.573482036590576, 3.425535202026367, 3.1963400840759277, 3.0905723571777344, 2.859074115753174, 2.6855263710021973, 2.632669448852539, 2.614255905151367, 1.6365278959274292, 1.636505365371704, 1.636579155921936, 1.6366462707519531, 1.6366373300552368, 1.6368263959884644, 153.36212158203125, 93.62397003173828, 69.35826110839844, 42.140480041503906, 39.01829147338867, 31.70610237121582, 28.042970657348633, 19.336267471313477, 13.706525802612305, 11.412875175476074, 10.491640090942383, 9.107203483581543, 8.791860580444336, 6.847405433654785, 5.551116943359375, 5.298783302307129, 4.972395896911621, 3.8166980743408203, 3.4494810104370117, 2.8111886978149414, 2.3597397804260254, 2.2489023208618164, 2.1130905151367188, 1.6366804838180542, 1.636559009552002, 1.636431097984314, 1.6364507675170898, 1.6364567279815674, 1.6364485025405884, 1.6364110708236694, 1.6366645097732544, 1.636655569076538, 1.6368443965911865, 1.6367040872573853, 1.636715292930603, 1.640044093132019, 1.6399539709091187, 118.69815063476562, 98.90864562988281, 69.36454772949219, 64.99334716796875, 41.384944915771484, 20.353307723999023, 15.148369789123535, 14.014755249023438, 13.595850944519043, 13.312148094177246, 13.246060371398926, 9.242582321166992, 7.476737022399902, 7.116247177124023, 5.252580642700195, 5.21668815612793, 2.9694833755493164, 2.5329408645629883, 1.6365673542022705, 1.636496663093567, 1.6366462707519531, 1.6364803314208984, 1.6364742517471313, 1.63649320602417, 1.6364021301269531, 1.636486291885376, 1.6364854574203491, 1.636491060256958, 1.6364272832870483, 1.6365277767181396, 1.636715292930603, 1.6365998983383179, 1.6367753744125366, 1.6368263959884644, 1.6365363597869873, 1.6400014162063599, 1.6399539709091187, 1.640044093132019, 1.6399462223052979, 175.7849884033203, 81.87686157226562, 46.606239318847656, 36.582088470458984, 33.04749298095703, 41.45582580566406, 15.679356575012207, 13.9541654586792, 13.415882110595703, 11.80812931060791, 11.409449577331543, 10.823739051818848, 10.059304237365723, 9.772100448608398, 7.716545581817627, 6.716015338897705, 6.1741204261779785, 5.934732913970947, 5.9338459968566895, 5.571776866912842, 5.5577521324157715, 5.369626522064209, 5.140693187713623, 4.9141411781311035, 4.876131534576416, 4.651925563812256, 4.5906500816345215, 3.3042612075805664, 3.271792411804199, 2.5473551750183105, 228.78994750976562, 226.781494140625, 9.621867179870605, 7.538146495819092, 6.670077800750732, 5.6645965576171875, 5.6097517013549805, 4.857911586761475, 4.700904369354248, 4.654430866241455, 4.0795722007751465, 4.022778034210205, 3.927058219909668, 3.8486156463623047, 3.2724971771240234, 3.0508809089660645, 2.807648181915283, 2.8017444610595703, 2.608752727508545, 2.1980948448181152, 2.0604894161224365, 1.948988676071167, 1.6399462223052979, 1.6400014162063599, 1.639926552772522, 1.6399539709091187, 1.640044093132019, 1.6365149021148682, 1.6364176273345947, 1.6364176273345947, 1.6364200115203857, 1.636420488357544, 1.6364234685897827, 1.6364229917526245, 1.6364284753799438, 1.6364984512329102, 1.6364684104919434, 60.93720626831055, 33.04070281982422, 32.75312805175781, 27.6113338470459, 27.295454025268555, 21.520233154296875, 18.974987030029297, 15.847335815429688, 12.152228355407715, 11.741488456726074, 11.609415054321289, 10.725799560546875, 9.398733139038086, 8.041667938232422, 3.093618392944336, 2.0690321922302246, 1.6365004777908325, 1.6364195346832275, 1.636425256729126, 1.636438012123108, 1.6364141702651978, 1.6365553140640259, 1.6364136934280396, 1.6365201473236084, 1.6364006996154785, 1.636407732963562, 1.6364163160324097, 1.6364781856536865, 1.6364398002624512, 1.6364387273788452, 1.6364680528640747, 1.636655569076538, 1.6367753744125366, 1.6365692615509033, 1.6369035243988037, 1.6365998983383179, 1.6366980075836182, 70.61052703857422, 37.36661911010742, 34.482810974121094, 21.333984375, 16.025211334228516, 15.022441864013672, 14.891410827636719, 12.310243606567383, 11.749677658081055, 8.544933319091797, 8.052696228027344, 7.221569061279297, 3.345573902130127, 31.42268943786621, 2.035099744796753, 1.6364753246307373, 1.6364394426345825, 1.6364394426345825, 1.636441707611084, 1.636492371559143, 1.6364213228225708, 1.636456847190857, 1.6369035243988037, 1.6364659070968628, 1.636411190032959, 1.6364526748657227, 1.6364747285842896, 1.6364208459854126, 1.6365872621536255, 1.6364312171936035, 1.636547565460205, 1.6366980075836182, 1.6366753578186035, 80.41796875, 39.155906677246094, 14.672741889953613, 14.111509323120117, 11.124236106872559, 9.833855628967285, 8.708961486816406, 8.036797523498535, 6.17408561706543, 5.9130659103393555, 5.16139030456543, 5.152340888977051, 4.558450222015381, 4.548201084136963, 3.6255829334259033, 3.5511443614959717, 3.180997848510742, 2.9612338542938232, 2.952354669570923, 2.4649524688720703, 2.3497674465179443, 2.3483526706695557, 2.1439640522003174, 2.0692155361175537, 1.6364446878433228, 1.636505126953125, 1.6364113092422485, 1.6364113092422485, 1.6364214420318604, 1.6364359855651855, 52.44577407836914, 32.8088264465332, 29.37726593017578, 14.748963356018066, 12.710030555725098, 10.832786560058594, 8.00225830078125, 5.739455699920654, 5.282748699188232, 3.1392459869384766, 2.295189142227173, 1.9345200061798096, 1.6365309953689575, 1.6364270448684692, 1.6365158557891846, 1.6364892721176147, 1.636457085609436, 1.636427879333496, 1.6364046335220337, 1.6365269422531128, 1.6365673542022705, 1.636409044265747, 1.6364126205444336, 1.6364388465881348, 1.6364301443099976, 1.6364107131958008, 1.6364657878875732, 1.6364487409591675, 1.6364229917526245, 1.6364359855651855, 1.6365247964859009, 1.6366980075836182, 1.6365547180175781, 1.6365423202514648, 1.6366645097732544, 49.286903381347656, 41.12482833862305, 22.675199508666992, 13.805079460144043, 12.836338996887207, 9.548907279968262, 6.897075653076172, 3.686580181121826, 2.670746326446533, 2.247833728790283, 1.6364256143569946, 1.6364643573760986, 1.6364654302597046, 1.6364386081695557, 1.63645601272583, 1.636457085609436, 1.6364967823028564, 1.6366982460021973, 1.6365057229995728, 1.636431336402893, 1.636492133140564, 1.6364189386367798, 1.6364095211029053, 1.636521816253662, 1.6364076137542725, 1.6364027261734009, 1.6365371942520142, 1.6364911794662476, 1.6364192962646484, 1.6364489793777466, 1.63679838180542, 1.6366702318191528, 1.6365211009979248, 1.6366373300552368, 1.6368443965911865, 1.6365278959274292, 1.6367753744125366, 37.26261901855469, 33.002166748046875, 24.4844970703125, 24.20228385925293, 20.142831802368164, 18.027265548706055, 5.821431636810303, 5.717994689941406, 5.668562889099121, 2.224167823791504, 1.6366804838180542, 1.6369035243988037, 1.6364530324935913, 1.6364127397537231, 1.6365165710449219, 1.6364407539367676, 1.6364552974700928, 1.6364604234695435, 1.6364156007766724, 1.6364526748657227, 1.6364394426345825, 1.6364394426345825, 1.636441707611084, 1.6364095211029053, 1.6365294456481934, 1.636480689048767, 1.6366645097732544, 1.6364936828613281, 1.6364747285842896, 1.636405348777771, 1.636405348777771, 1.6364365816116333, 1.63679838180542, 1.6366753578186035, 1.636644959449768, 1.6368263959884644, 1.6368443965911865, 1.636655569076538], \"logprob\": [30.0, 29.0, 28.0, 27.0, 26.0, 25.0, 24.0, 23.0, 22.0, 21.0, 20.0, 19.0, 18.0, 17.0, 16.0, 15.0, 14.0, 13.0, 12.0, 11.0, 10.0, 9.0, 8.0, 7.0, 6.0, 5.0, 4.0, 3.0, 2.0, 1.0, -2.9375, -2.9700000286102295, -3.0336999893188477, -3.1584999561309814, -3.370699882507324, -3.393899917602539, -3.6352999210357666, -3.7772998809814453, -3.9375, -3.9595000743865967, -4.028800010681152, -4.128900051116943, -4.208099842071533, -4.249499797821045, -4.2505998611450195, -4.291500091552734, -4.310400009155273, -4.564000129699707, -4.588500022888184, -4.598199844360352, -4.729800224304199, -4.744500160217285, -4.779200077056885, -4.865900039672852, -5.130300045013428, -5.137499809265137, -5.155799865722656, -5.18779993057251, -5.210000038146973, -5.348499774932861, -3.418800115585327, -0.9404000043869019, -3.22760009765625, -3.2860000133514404, -3.678499937057495, -3.7493999004364014, -3.827899932861328, -4.003399848937988, -4.049499988555908, -4.144999980926514, -4.461699962615967, -4.525199890136719, -4.655099868774414, -4.706299781799316, -4.72730016708374, -4.843699932098389, -4.952700138092041, -4.981400012969971, -5.058000087738037, -5.079999923706055, -5.2342000007629395, -5.315100193023682, -5.390200138092041, -5.578199863433838, -5.747700214385986, -5.751200199127197, -5.758999824523926, -5.807000160217285, -5.897900104522705, -6.01800012588501, -6.045000076293945, -2.3629000186920166, -2.6245999336242676, -2.9221999645233154, -3.0025999546051025, -3.0596001148223877, -3.3117001056671143, -3.6221001148223877, -3.6451001167297363, -3.703900098800659, -3.86680006980896, -4.052999973297119, -4.064000129699707, -4.139500141143799, -4.5192999839782715, -4.712699890136719, -4.786499977111816, -4.813799858093262, -4.889200210571289, -5.104899883270264, -5.106800079345703, -5.47160005569458, -5.490200042724609, -5.7804999351501465, -5.827899932861328, -5.875100135803223, -5.945400238037109, -6.401899814605713, -6.799699783325195, -6.870999813079834, -7.0355000495910645, -2.5144999027252197, -3.0506999492645264, -3.429500102996826, -3.4365999698638916, -3.533799886703491, -3.594399929046631, -3.7072999477386475, -3.7590999603271484, -3.7946999073028564, -3.813800096511841, -3.814300060272217, -3.8889000415802, -3.9284000396728516, -3.9946999549865723, -4.036399841308594, -4.089900016784668, -4.105000019073486, -4.160200119018555, -4.344900131225586, -4.38070011138916, -4.494200229644775, -4.596099853515625, -4.614799976348877, -4.620800018310547, -4.777299880981445, -4.780900001525879, -4.9899001121521, -5.021999835968018, -5.115099906921387, -5.135200023651123, -0.9101999998092651, -2.351300001144409, -3.014400005340576, -3.7504000663757324, -3.964200019836426, -3.9995999336242676, -4.0218000411987305, -4.071400165557861, -4.245100021362305, -4.67140007019043, -4.980000019073486, -5.018700122833252, -5.0279998779296875, -5.130300045013428, -5.492400169372559, -5.63539981842041, -5.842899799346924, -6.268199920654297, -6.311500072479248, -6.896699905395508, -7.833799839019775, -9.787599563598633, -9.787599563598633, -9.787599563598633, -9.787500381469727, -9.787500381469727, -9.79889965057373, -9.799099922180176, -9.799099922180176, -9.799099922180176, -9.79889965057373, -9.798999786376953, -9.798999786376953, -9.798999786376953, -2.1198999881744385, -2.615000009536743, -3.2569000720977783, -3.6953001022338867, -3.770400047302246, -3.7897000312805176, -3.798099994659424, -4.018799781799316, -4.06820011138916, -4.166100025177002, -4.191800117492676, -4.23390007019043, -4.35099983215332, -4.460100173950195, -4.706399917602539, -4.709199905395508, -4.711299896240234, -4.792600154876709, -4.867199897766113, -4.885000228881836, -4.968200206756592, -5.018199920654297, -5.040200233459473, -5.087100028991699, -5.388599872589111, -5.399700164794922, -5.611199855804443, -6.045199871063232, -6.270999908447266, -6.375199794769287, -4.389599800109863, -2.790600061416626, -3.019399881362915, -3.214099884033203, -3.2520999908447266, -3.311500072479248, -3.6796000003814697, -3.801300048828125, -3.8340001106262207, -3.91759991645813, -3.9888999462127686, -4.322400093078613, -4.326700210571289, -4.34089994430542, -4.45389986038208, -4.795499801635742, -4.826700210571289, -4.84060001373291, -5.089000225067139, -5.3607001304626465, -5.407800197601318, -5.522500038146973, -5.5640997886657715, -5.7129998207092285, -2.4565000534057617, -6.373799800872803, -6.378399848937988, -6.611199855804443, -6.6433000564575195, -6.684199810028076, -6.746399879455566, -2.507999897003174, -3.012700080871582, -3.089400053024292, -3.2385001182556152, -3.3724000453948975, -3.5862998962402344, -3.6268999576568604, -3.660399913787842, -3.7479000091552734, -3.927500009536743, -4.0295000076293945, -4.047599792480469, -4.193699836730957, -4.251999855041504, -4.304100036621094, -4.3059000968933105, -4.338399887084961, -4.373000144958496, -4.5609002113342285, -4.860599994659424, -4.9045000076293945, -5.35260009765625, -5.440800189971924, -5.661799907684326, -6.355800151824951, -7.083000183105469, -7.221099853515625, -9.325400352478027, -9.325699806213379, -9.325699806213379, -9.325599670410156, -9.325499534606934, -0.8118000030517578, -2.526599884033203, -3.2815001010894775, -4.403600215911865, -5.519499778747559, -5.937099933624268, -6.258900165557861, -6.861100196838379, -6.982699871063232, -9.44789981842041, -9.448200225830078, -9.448200225830078, -9.448200225830078, -9.4483003616333, -9.4483003616333, -9.448100090026855, -9.4483003616333, -9.4483003616333, -9.4483003616333, -9.448399543762207, -9.448399543762207, -9.4483003616333, -9.448399543762207, -9.448399543762207, -9.448399543762207, -9.448399543762207, -9.44849967956543, -9.44849967956543, -9.44849967956543, -9.44849967956543, -9.4483003616333, -9.448399543762207, -9.448399543762207, -9.44849967956543, -9.448399543762207, -9.448399543762207, -9.448399543762207, -9.448399543762207, -9.448399543762207, -2.3896000385284424, -2.6026999950408936, -3.0181000232696533, -3.234499931335449, -3.6480000019073486, -3.7651000022888184, -3.779599905014038, -3.9621999263763428, -4.009300231933594, -4.067800045013428, -4.50439977645874, -4.617499828338623, -4.679200172424316, -4.833600044250488, -4.845799922943115, -5.0879998207092285, -5.150100231170654, -5.360000133514404, -5.4953999519348145, -6.177000045776367, -6.252299785614014, -6.3815999031066895, -6.447400093078613, -6.60860013961792, -6.749100208282471, -6.796199798583984, -6.8130998611450195, -9.18179988861084, -9.181900024414062, -9.18179988861084, -9.18179988861084, -9.18179988861084, -9.18179988861084, -1.8660999536514282, -2.3661000728607178, -2.672100067138672, -3.1851999759674072, -3.2653000354766846, -3.4823999404907227, -3.6119000911712646, -4.01039981842041, -4.390999794006348, -4.600100040435791, -4.698200225830078, -4.866399765014648, -4.908999919891357, -5.221799850463867, -5.502500057220459, -5.567699909210205, -5.65880012512207, -6.071000099182129, -6.247900009155273, -6.657800197601318, -7.101500034332275, -7.248899936676025, -7.4654998779296875, -9.353400230407715, -9.353500366210938, -9.353599548339844, -9.353599548339844, -9.353599548339844, -9.353599548339844, -9.353599548339844, -9.353500366210938, -9.353500366210938, -9.353500366210938, -9.353599548339844, -9.353599548339844, -9.353400230407715, -9.353500366210938, -2.105299949645996, -2.290299892425537, -2.651900053024292, -2.718600034713745, -3.1839001178741455, -3.9346001148223877, -4.258600234985352, -4.345699787139893, -4.379799842834473, -4.40369987487793, -4.409299850463867, -4.828199863433838, -5.088900089263916, -5.151599884033203, -5.559100151062012, -5.56879997253418, -6.516900062561035, -6.883699893951416, -9.291600227355957, -9.29170036315918, -9.29170036315918, -9.291799545288086, -9.291799545288086, -9.291899681091309, -9.291899681091309, -9.291899681091309, -9.291899681091309, -9.291899681091309, -9.291899681091309, -9.291899681091309, -9.291799545288086, -9.291899681091309, -9.291799545288086, -9.291799545288086, -9.291899681091309, -9.291799545288086, -9.291799545288086, -9.291799545288086, -9.291799545288086, -1.6922999620437622, -2.4667000770568848, -3.0450000762939453, -3.2967000007629395, -3.40310001373291, -3.1779000759124756, -4.2052001953125, -4.3354997634887695, -4.379899978637695, -4.525700092315674, -4.565299987792969, -4.626699924468994, -4.712800025939941, -4.747200012207031, -5.035299777984619, -5.212699890136719, -5.323800086975098, -5.377099990844727, -5.377299785614014, -5.463699817657471, -5.467199802398682, -5.515399932861328, -5.577400207519531, -5.6427998542785645, -5.654200077056885, -5.7241997718811035, -5.744200229644775, -6.296899795532227, -6.315700054168701, -6.866499900817871, -1.0865999460220337, -1.0954999923706055, -4.430799961090088, -4.731800079345703, -4.889999866485596, -5.111199855804443, -5.124800205230713, -5.332699775695801, -5.382199764251709, -5.397299766540527, -5.606200218200684, -5.62939977645874, -5.6697998046875, -5.704100131988525, -6.000800132751465, -6.143400192260742, -6.327499866485596, -6.332499980926514, -6.508299827575684, -7.03410005569458, -7.297900199890137, -7.578400135040283, -9.926899909973145, -9.926799774169922, -9.926899909973145, -9.926899909973145, -9.926899909973145, -9.961199760437012, -9.961199760437012, -9.961199760437012, -9.961199760437012, -9.961199760437012, -9.961199760437012, -9.961199760437012, -9.961199760437012, -9.961199760437012, -9.961199760437012, -2.4117000102996826, -3.046299934387207, -3.055500030517578, -3.2356998920440674, -3.2479000091552734, -3.502000093460083, -3.6384999752044678, -3.8364999294281006, -4.135799884796143, -4.1753997802734375, -4.188499927520752, -4.2804999351501465, -4.436999797821045, -4.627200126647949, -6.070700168609619, -7.179100036621094, -9.123499870300293, -9.123600006103516, -9.123600006103516, -9.123600006103516, -9.123700141906738, -9.123600006103516, -9.123700141906738, -9.123700141906738, -9.123700141906738, -9.123700141906738, -9.123700141906738, -9.123700141906738, -9.123800277709961, -9.123800277709961, -9.123700141906738, -9.123600006103516, -9.123600006103516, -9.123700141906738, -9.123700141906738, -9.123700141906738, -9.123700141906738, -2.158799886703491, -2.8155999183654785, -2.899600028991699, -3.409600019454956, -3.7225000858306885, -3.7943999767303467, -3.8041999340057373, -4.019599914550781, -4.073200225830078, -4.451300144195557, -4.524499893188477, -4.661799907684326, -5.820099830627441, -3.691999912261963, -7.162099838256836, -9.1274995803833, -9.127900123596191, -9.127900123596191, -9.127900123596191, -9.128000259399414, -9.128000259399414, -9.128000259399414, -9.127799987792969, -9.128000259399414, -9.128100395202637, -9.128199577331543, -9.128199577331543, -9.128199577331543, -9.128100395202637, -9.128199577331543, -9.128100395202637, -9.128100395202637, -9.128100395202637, -1.992300033569336, -2.733099937438965, -3.786799907684326, -3.8304998874664307, -4.102499961853027, -4.247499942779541, -4.393700122833252, -4.492599964141846, -4.832099914550781, -4.890399932861328, -5.0802001953125, -5.082699775695801, -5.263800144195557, -5.267199993133545, -5.637400150299072, -5.674200057983398, -5.880499839782715, -6.026800155639648, -6.033199787139893, -6.466300010681152, -6.603499889373779, -6.605299949645996, -6.9079999923706055, -7.046500205993652, -9.012700080871582, -9.012700080871582, -9.012800216674805, -9.012800216674805, -9.012800216674805, -9.012800216674805, -2.2920000553131104, -2.7797999382019043, -2.896199941635132, -3.642899990081787, -3.811000108718872, -3.9955999851226807, -4.360300064086914, -4.793900012969971, -4.909999847412109, -5.771699905395508, -6.544600009918213, -7.234300136566162, -8.953800201416016, -8.953900337219238, -8.953900337219238, -8.953900337219238, -8.954000473022461, -8.954000473022461, -8.954000473022461, -8.954000473022461, -8.953900337219238, -8.954000473022461, -8.954000473022461, -8.954000473022461, -8.954000473022461, -8.954000473022461, -8.954000473022461, -8.954000473022461, -8.954099655151367, -8.954099655151367, -8.954000473022461, -8.953900337219238, -8.954000473022461, -8.954000473022461, -8.954000473022461, -2.282900094985962, -2.4704999923706055, -3.09879994392395, -3.644200086593628, -3.726799964904785, -4.072000026702881, -4.476399898529053, -5.401100158691406, -6.057499885559082, -6.5457000732421875, -8.953900337219238, -8.953900337219238, -8.953900337219238, -8.953900337219238, -8.953900337219238, -8.953900337219238, -8.953900337219238, -8.953900337219238, -8.954000473022461, -8.954099655151367, -8.954099655151367, -8.954099655151367, -8.954099655151367, -8.954099655151367, -8.954099655151367, -8.95419979095459, -8.954099655151367, -8.954099655151367, -8.95419979095459, -8.954099655151367, -8.954000473022461, -8.954099655151367, -8.954099655151367, -8.954099655151367, -8.954099655151367, -8.954099655151367, -8.954099655151367, -2.458699941635132, -2.585900068283081, -2.9021999835968018, -2.914599895477295, -3.1124000549316406, -3.2335000038146973, -4.590099811553955, -4.614799976348877, -4.6269001960754395, -6.485099792480469, -9.05679988861084, -9.056699752807617, -9.057000160217285, -9.057100296020508, -9.057000160217285, -9.057100296020508, -9.057100296020508, -9.057100296020508, -9.057100296020508, -9.057100296020508, -9.05720043182373, -9.05720043182373, -9.05720043182373, -9.05720043182373, -9.057100296020508, -9.05720043182373, -9.057100296020508, -9.05720043182373, -9.05720043182373, -9.05720043182373, -9.05720043182373, -9.05720043182373, -9.057000160217285, -9.057100296020508, -9.057100296020508, -9.057100296020508, -9.05720043182373, -9.05720043182373], \"Category\": [\"Default\", \"Default\", \"Default\", \"Default\", \"Default\", \"Default\", \"Default\", \"Default\", \"Default\", \"Default\", \"Default\", \"Default\", \"Default\", \"Default\", \"Default\", \"Default\", \"Default\", \"Default\", \"Default\", \"Default\", \"Default\", \"Default\", \"Default\", \"Default\", \"Default\", \"Default\", \"Default\", \"Default\", \"Default\", \"Default\", \"Topic1\", \"Topic1\", \"Topic1\", \"Topic1\", \"Topic1\", \"Topic1\", \"Topic1\", \"Topic1\", \"Topic1\", \"Topic1\", \"Topic1\", \"Topic1\", \"Topic1\", \"Topic1\", \"Topic1\", \"Topic1\", \"Topic1\", \"Topic1\", \"Topic1\", \"Topic1\", \"Topic1\", \"Topic1\", \"Topic1\", \"Topic1\", \"Topic1\", \"Topic1\", \"Topic1\", \"Topic1\", \"Topic1\", \"Topic1\", \"Topic1\", \"Topic2\", \"Topic2\", \"Topic2\", \"Topic2\", \"Topic2\", \"Topic2\", \"Topic2\", \"Topic2\", \"Topic2\", \"Topic2\", \"Topic2\", \"Topic2\", \"Topic2\", \"Topic2\", \"Topic2\", \"Topic2\", \"Topic2\", \"Topic2\", \"Topic2\", \"Topic2\", \"Topic2\", \"Topic2\", \"Topic2\", \"Topic2\", \"Topic2\", \"Topic2\", \"Topic2\", \"Topic2\", \"Topic2\", \"Topic2\", \"Topic3\", \"Topic3\", \"Topic3\", \"Topic3\", \"Topic3\", \"Topic3\", \"Topic3\", \"Topic3\", \"Topic3\", \"Topic3\", \"Topic3\", \"Topic3\", \"Topic3\", \"Topic3\", \"Topic3\", \"Topic3\", \"Topic3\", \"Topic3\", \"Topic3\", \"Topic3\", \"Topic3\", \"Topic3\", \"Topic3\", \"Topic3\", \"Topic3\", \"Topic3\", \"Topic3\", \"Topic3\", \"Topic3\", \"Topic3\", \"Topic4\", \"Topic4\", \"Topic4\", \"Topic4\", \"Topic4\", \"Topic4\", \"Topic4\", \"Topic4\", \"Topic4\", \"Topic4\", \"Topic4\", \"Topic4\", \"Topic4\", \"Topic4\", \"Topic4\", \"Topic4\", \"Topic4\", \"Topic4\", \"Topic4\", \"Topic4\", \"Topic4\", \"Topic4\", \"Topic4\", \"Topic4\", \"Topic4\", \"Topic4\", \"Topic4\", \"Topic4\", \"Topic4\", \"Topic4\", \"Topic5\", \"Topic5\", \"Topic5\", \"Topic5\", \"Topic5\", \"Topic5\", \"Topic5\", \"Topic5\", \"Topic5\", \"Topic5\", \"Topic5\", \"Topic5\", \"Topic5\", \"Topic5\", \"Topic5\", \"Topic5\", \"Topic5\", \"Topic5\", \"Topic5\", \"Topic5\", \"Topic5\", \"Topic5\", \"Topic5\", \"Topic5\", \"Topic5\", \"Topic5\", \"Topic5\", \"Topic5\", \"Topic5\", \"Topic5\", \"Topic5\", \"Topic5\", \"Topic5\", \"Topic5\", \"Topic6\", \"Topic6\", \"Topic6\", \"Topic6\", \"Topic6\", \"Topic6\", \"Topic6\", \"Topic6\", \"Topic6\", \"Topic6\", \"Topic6\", \"Topic6\", \"Topic6\", \"Topic6\", \"Topic6\", \"Topic6\", \"Topic6\", \"Topic6\", \"Topic6\", \"Topic6\", \"Topic6\", \"Topic6\", \"Topic6\", \"Topic6\", \"Topic6\", \"Topic6\", \"Topic6\", \"Topic6\", \"Topic6\", \"Topic6\", \"Topic6\", \"Topic7\", \"Topic7\", \"Topic7\", \"Topic7\", \"Topic7\", \"Topic7\", \"Topic7\", \"Topic7\", \"Topic7\", \"Topic7\", \"Topic7\", \"Topic7\", \"Topic7\", \"Topic7\", \"Topic7\", \"Topic7\", \"Topic7\", \"Topic7\", \"Topic7\", \"Topic7\", \"Topic7\", \"Topic7\", \"Topic7\", \"Topic7\", \"Topic7\", \"Topic7\", \"Topic7\", \"Topic7\", \"Topic7\", \"Topic7\", \"Topic8\", \"Topic8\", \"Topic8\", \"Topic8\", \"Topic8\", \"Topic8\", \"Topic8\", \"Topic8\", \"Topic8\", \"Topic8\", \"Topic8\", \"Topic8\", \"Topic8\", \"Topic8\", \"Topic8\", \"Topic8\", \"Topic8\", \"Topic8\", \"Topic8\", \"Topic8\", \"Topic8\", \"Topic8\", \"Topic8\", \"Topic8\", \"Topic8\", \"Topic8\", \"Topic8\", \"Topic8\", \"Topic8\", \"Topic8\", \"Topic8\", \"Topic8\", \"Topic9\", \"Topic9\", \"Topic9\", \"Topic9\", \"Topic9\", \"Topic9\", \"Topic9\", \"Topic9\", \"Topic9\", \"Topic9\", \"Topic9\", \"Topic9\", \"Topic9\", \"Topic9\", \"Topic9\", \"Topic9\", \"Topic9\", \"Topic9\", \"Topic9\", \"Topic9\", \"Topic9\", \"Topic9\", \"Topic9\", \"Topic9\", \"Topic9\", \"Topic9\", \"Topic9\", \"Topic9\", \"Topic9\", \"Topic9\", \"Topic9\", \"Topic9\", \"Topic9\", \"Topic9\", \"Topic9\", \"Topic9\", \"Topic9\", \"Topic9\", \"Topic9\", \"Topic10\", \"Topic10\", \"Topic10\", \"Topic10\", \"Topic10\", \"Topic10\", \"Topic10\", \"Topic10\", \"Topic10\", \"Topic10\", \"Topic10\", \"Topic10\", \"Topic10\", \"Topic10\", \"Topic10\", \"Topic10\", \"Topic10\", \"Topic10\", \"Topic10\", \"Topic10\", \"Topic10\", \"Topic10\", \"Topic10\", \"Topic10\", \"Topic10\", \"Topic10\", \"Topic10\", \"Topic10\", \"Topic10\", \"Topic10\", \"Topic10\", \"Topic10\", \"Topic10\", \"Topic11\", \"Topic11\", \"Topic11\", \"Topic11\", \"Topic11\", \"Topic11\", \"Topic11\", \"Topic11\", \"Topic11\", \"Topic11\", \"Topic11\", \"Topic11\", \"Topic11\", \"Topic11\", \"Topic11\", \"Topic11\", \"Topic11\", \"Topic11\", \"Topic11\", \"Topic11\", \"Topic11\", \"Topic11\", \"Topic11\", \"Topic11\", \"Topic11\", \"Topic11\", \"Topic11\", \"Topic11\", \"Topic11\", \"Topic11\", \"Topic11\", \"Topic11\", \"Topic11\", \"Topic11\", \"Topic11\", \"Topic11\", \"Topic11\", \"Topic12\", \"Topic12\", \"Topic12\", \"Topic12\", \"Topic12\", \"Topic12\", \"Topic12\", \"Topic12\", \"Topic12\", \"Topic12\", \"Topic12\", \"Topic12\", \"Topic12\", \"Topic12\", \"Topic12\", \"Topic12\", \"Topic12\", \"Topic12\", \"Topic12\", \"Topic12\", \"Topic12\", \"Topic12\", \"Topic12\", \"Topic12\", \"Topic12\", \"Topic12\", \"Topic12\", \"Topic12\", \"Topic12\", \"Topic12\", \"Topic12\", \"Topic12\", \"Topic12\", \"Topic12\", \"Topic12\", \"Topic12\", \"Topic12\", \"Topic12\", \"Topic12\", \"Topic13\", \"Topic13\", \"Topic13\", \"Topic13\", \"Topic13\", \"Topic13\", \"Topic13\", \"Topic13\", \"Topic13\", \"Topic13\", \"Topic13\", \"Topic13\", \"Topic13\", \"Topic13\", \"Topic13\", \"Topic13\", \"Topic13\", \"Topic13\", \"Topic13\", \"Topic13\", \"Topic13\", \"Topic13\", \"Topic13\", \"Topic13\", \"Topic13\", \"Topic13\", \"Topic13\", \"Topic13\", \"Topic13\", \"Topic13\", \"Topic14\", \"Topic14\", \"Topic14\", \"Topic14\", \"Topic14\", \"Topic14\", \"Topic14\", \"Topic14\", \"Topic14\", \"Topic14\", \"Topic14\", \"Topic14\", \"Topic14\", \"Topic14\", \"Topic14\", \"Topic14\", \"Topic14\", \"Topic14\", \"Topic14\", \"Topic14\", \"Topic14\", \"Topic14\", \"Topic14\", \"Topic14\", \"Topic14\", \"Topic14\", \"Topic14\", \"Topic14\", \"Topic14\", \"Topic14\", \"Topic14\", \"Topic14\", \"Topic14\", \"Topic14\", \"Topic14\", \"Topic14\", \"Topic14\", \"Topic15\", \"Topic15\", \"Topic15\", \"Topic15\", \"Topic15\", \"Topic15\", \"Topic15\", \"Topic15\", \"Topic15\", \"Topic15\", \"Topic15\", \"Topic15\", \"Topic15\", \"Topic15\", \"Topic15\", \"Topic15\", \"Topic15\", \"Topic15\", \"Topic15\", \"Topic15\", \"Topic15\", \"Topic15\", \"Topic15\", \"Topic15\", \"Topic15\", \"Topic15\", \"Topic15\", \"Topic15\", \"Topic15\", \"Topic15\", \"Topic15\", \"Topic15\", \"Topic15\", \"Topic15\", \"Topic15\", \"Topic15\", \"Topic15\", \"Topic16\", \"Topic16\", \"Topic16\", \"Topic16\", \"Topic16\", \"Topic16\", \"Topic16\", \"Topic16\", \"Topic16\", \"Topic16\", \"Topic16\", \"Topic16\", \"Topic16\", \"Topic16\", \"Topic16\", \"Topic16\", \"Topic16\", \"Topic16\", \"Topic16\", \"Topic16\", \"Topic16\", \"Topic16\", \"Topic16\", \"Topic16\", \"Topic16\", \"Topic16\", \"Topic16\", \"Topic16\", \"Topic16\", \"Topic16\", \"Topic16\", \"Topic16\", \"Topic16\", \"Topic17\", \"Topic17\", \"Topic17\", \"Topic17\", \"Topic17\", \"Topic17\", \"Topic17\", \"Topic17\", \"Topic17\", \"Topic17\", \"Topic17\", \"Topic17\", \"Topic17\", \"Topic17\", \"Topic17\", \"Topic17\", \"Topic17\", \"Topic17\", \"Topic17\", \"Topic17\", \"Topic17\", \"Topic17\", \"Topic17\", \"Topic17\", \"Topic17\", \"Topic17\", \"Topic17\", \"Topic17\", \"Topic17\", \"Topic17\", \"Topic18\", \"Topic18\", \"Topic18\", \"Topic18\", \"Topic18\", \"Topic18\", \"Topic18\", \"Topic18\", \"Topic18\", \"Topic18\", \"Topic18\", \"Topic18\", \"Topic18\", \"Topic18\", \"Topic18\", \"Topic18\", \"Topic18\", \"Topic18\", \"Topic18\", \"Topic18\", \"Topic18\", \"Topic18\", \"Topic18\", \"Topic18\", \"Topic18\", \"Topic18\", \"Topic18\", \"Topic18\", \"Topic18\", \"Topic18\", \"Topic18\", \"Topic18\", \"Topic18\", \"Topic18\", \"Topic18\", \"Topic19\", \"Topic19\", \"Topic19\", \"Topic19\", \"Topic19\", \"Topic19\", \"Topic19\", \"Topic19\", \"Topic19\", \"Topic19\", \"Topic19\", \"Topic19\", \"Topic19\", \"Topic19\", \"Topic19\", \"Topic19\", \"Topic19\", \"Topic19\", \"Topic19\", \"Topic19\", \"Topic19\", \"Topic19\", \"Topic19\", \"Topic19\", \"Topic19\", \"Topic19\", \"Topic19\", \"Topic19\", \"Topic19\", \"Topic19\", \"Topic19\", \"Topic19\", \"Topic19\", \"Topic19\", \"Topic19\", \"Topic19\", \"Topic19\", \"Topic20\", \"Topic20\", \"Topic20\", \"Topic20\", \"Topic20\", \"Topic20\", \"Topic20\", \"Topic20\", \"Topic20\", \"Topic20\", \"Topic20\", \"Topic20\", \"Topic20\", \"Topic20\", \"Topic20\", \"Topic20\", \"Topic20\", \"Topic20\", \"Topic20\", \"Topic20\", \"Topic20\", \"Topic20\", \"Topic20\", \"Topic20\", \"Topic20\", \"Topic20\", \"Topic20\", \"Topic20\", \"Topic20\", \"Topic20\", \"Topic20\", \"Topic20\", \"Topic20\", \"Topic20\", \"Topic20\", \"Topic20\", \"Topic20\", \"Topic20\"], \"Freq\": [628.0, 520.0, 462.0, 228.0, 226.0, 175.0, 153.0, 147.0, 118.0, 130.0, 124.0, 152.0, 98.0, 110.0, 80.0, 93.0, 91.0, 101.0, 89.0, 70.0, 90.0, 81.0, 84.0, 74.0, 90.0, 60.0, 87.0, 69.0, 69.0, 70.0, 89.29498291015625, 86.44171905517578, 81.10563659667969, 71.59308624267578, 57.90201187133789, 56.57421112060547, 44.44001770019531, 38.55866622924805, 32.851806640625, 32.135032653808594, 29.98278045654297, 27.127906799316406, 25.061323165893555, 24.046466827392578, 24.020294189453125, 23.05759620666504, 22.62491226196289, 17.556676864624023, 17.131885528564453, 16.967634201049805, 14.87466812133789, 14.657781600952148, 14.157318115234375, 12.981800079345703, 9.965423583984375, 9.894634246826172, 9.71524429321289, 9.408870697021484, 9.202371597290039, 8.011879920959473, 55.180946350097656, 627.1583862304688, 63.68695068359375, 60.07539749145508, 40.5693359375, 37.79507064819336, 34.94186019897461, 29.3173828125, 27.99527359008789, 25.44711685180664, 18.538002014160156, 17.398393630981445, 15.278944969177246, 14.516627311706543, 14.213919639587402, 12.65260124206543, 11.346004486083984, 11.024591445922852, 10.2119779586792, 9.989398956298828, 8.562433242797852, 7.896883487701416, 7.325102806091309, 6.069969177246094, 5.123773574829102, 5.105908393859863, 5.065908432006836, 4.828774452209473, 4.408845901489258, 3.910102605819702, 3.8060035705566406, 129.30848693847656, 99.5390853881836, 73.9181137084961, 68.20283508300781, 64.42356872558594, 50.067745208740234, 36.709896087646484, 35.874427795410156, 33.824928283691406, 28.73979377746582, 23.85785675048828, 23.59693717956543, 21.88204002380371, 14.967229843139648, 12.334903717041016, 11.456847190856934, 11.14856243133545, 10.338581085205078, 8.333003044128418, 8.316996574401855, 5.7748613357543945, 5.668241024017334, 4.240147590637207, 4.044065952301025, 3.857602596282959, 3.5955896377563477, 2.27774715423584, 1.5302622318267822, 1.4249335527420044, 1.2087774276733398, 108.76582336425781, 63.62413024902344, 43.56055450439453, 43.253257751464844, 39.24867630004883, 36.941768646240234, 32.996490478515625, 31.331724166870117, 30.233747482299805, 29.6634578704834, 29.648229598999023, 27.517879486083984, 26.451509475708008, 24.755441665649414, 23.74436378479004, 22.506261825561523, 22.16935920715332, 20.977493286132812, 17.440040588378906, 16.827171325683594, 15.021510124206543, 13.566420555114746, 13.31544017791748, 13.235742568969727, 11.317545890808105, 11.277276039123535, 9.150863647460938, 8.861241340637207, 8.073923110961914, 7.913200855255127, 518.4547119140625, 122.70529174804688, 63.22111892700195, 30.2857608795166, 24.455814361572266, 23.605043411254883, 23.08681297302246, 21.96942710876465, 18.46645736694336, 12.057147026062012, 8.855338096618652, 8.519109725952148, 8.440300941467285, 7.619706153869629, 5.3047261238098145, 4.598265647888184, 3.7364418506622314, 2.44195294380188, 2.338580369949341, 1.302583932876587, 0.5102903842926025, 0.07233016192913055, 0.07233031839132309, 0.07233058661222458, 0.07233193516731262, 0.07233253121376038, 0.07151280343532562, 0.07150230556726456, 0.07150330394506454, 0.0715012475848198, 0.0715159997344017, 0.07150549441576004, 0.07150454074144363, 0.07150612026453018, 145.69825744628906, 88.80415344238281, 46.737876892089844, 30.14666748046875, 27.967140197753906, 27.43275260925293, 27.20183753967285, 21.814838409423828, 20.763473510742188, 18.826906204223633, 18.3490047454834, 17.59339714050293, 15.64980697631836, 14.030951499938965, 10.968647956848145, 10.937626838684082, 10.914538383483887, 10.062369346618652, 9.339546203613281, 9.174360275268555, 8.441812515258789, 8.030555725097656, 7.855604648590088, 7.4954376220703125, 5.544343948364258, 5.4834675788879395, 4.438013076782227, 2.875514507293701, 2.294212818145752, 2.0671679973602295, 15.055960655212402, 68.94478607177734, 54.84279251098633, 45.14259719848633, 43.456642150878906, 40.953651428222656, 28.341325759887695, 25.0928897857666, 24.286836624145508, 22.337013244628906, 20.80038833618164, 14.902502059936523, 14.837549209594727, 14.62917709350586, 13.066391944885254, 9.284838676452637, 8.999859809875488, 8.875166893005371, 6.923592567443848, 5.275987148284912, 5.03348970413208, 4.488159656524658, 4.3051066398620605, 3.7094650268554688, 96.29580688476562, 1.915637731552124, 1.9068387746810913, 1.5109096765518188, 1.4631860256195068, 1.4045624732971191, 1.319758415222168, 87.50118255615234, 52.8239860534668, 48.924842834472656, 42.146324157714844, 36.86546325683594, 29.765806198120117, 28.581459045410156, 27.63858985900879, 25.32380485534668, 21.160654067993164, 19.108400344848633, 18.766374588012695, 16.21523666381836, 15.296828269958496, 14.519908905029297, 14.493731498718262, 14.03061580657959, 13.553569793701172, 11.231644630432129, 8.323419570922852, 7.965700626373291, 5.088565826416016, 4.659241676330566, 3.7353951930999756, 1.8661389350891113, 0.9018478393554688, 0.7854714393615723, 0.09577023983001709, 0.09574690461158752, 0.09574824571609497, 0.0957556664943695, 0.09576183557510376, 461.312744140625, 83.03861999511719, 39.031776428222656, 12.708598136901855, 4.1636834144592285, 2.7424020767211914, 1.9877928495407104, 1.0884809494018555, 0.9638943672180176, 0.0819169282913208, 0.08189351111650467, 0.08189231157302856, 0.0818919911980629, 0.08188853412866592, 0.08189046382904053, 0.08190274238586426, 0.08188654482364655, 0.0818890780210495, 0.08188547194004059, 0.08188143372535706, 0.0818808376789093, 0.08188562840223312, 0.08187894523143768, 0.08187717199325562, 0.0818752869963646, 0.08187644928693771, 0.08187263458967209, 0.08187171816825867, 0.08187136799097061, 0.08187051117420197, 0.08188740164041519, 0.0818830132484436, 0.08187656104564667, 0.08187336474657059, 0.08188340067863464, 0.08188279718160629, 0.08188118785619736, 0.08188067376613617, 0.08188050240278244, 89.96007537841797, 72.69223022460938, 47.98421859741211, 38.64813995361328, 25.55841827392578, 22.734346389770508, 22.407474517822266, 18.667898178100586, 17.80762481689453, 16.796598434448242, 10.854519844055176, 9.693899154663086, 9.113789558410645, 7.809387683868408, 7.715023040771484, 6.055295467376709, 5.691046237945557, 4.613472938537598, 4.029281139373779, 2.0380449295043945, 1.8900980949401855, 1.6609033346176147, 1.5551354885101318, 1.3236370086669922, 1.1500892639160156, 1.097232460975647, 1.0788187980651855, 0.10097452998161316, 0.10097213834524155, 0.10097667574882507, 0.10097717493772507, 0.10097559541463852, 0.10097706317901611, 151.8107452392578, 92.07258605957031, 67.80687713623047, 40.58909606933594, 37.4669075012207, 30.154722213745117, 26.49159049987793, 17.784887313842773, 12.155144691467285, 9.861494064331055, 8.940258979797363, 7.555821895599365, 7.240479469299316, 5.296025276184082, 3.9997365474700928, 3.7474029064178467, 3.421015739440918, 2.265317678451538, 1.8981006145477295, 1.2598084211349487, 0.8083592057228088, 0.6975218057632446, 0.5617098212242126, 0.08504028618335724, 0.08502736687660217, 0.08502008765935898, 0.0850202813744545, 0.08501940220594406, 0.08501796424388885, 0.08501569926738739, 0.08502740412950516, 0.08502553403377533, 0.08502355217933655, 0.08502156287431717, 0.0850215032696724, 0.08503474295139313, 0.08502690494060516, 117.150390625, 97.36088562011719, 67.81678771972656, 63.445587158203125, 39.83718490600586, 18.805551528930664, 13.600611686706543, 12.466997146606445, 12.04809284210205, 11.764389991760254, 11.698302268981934, 7.69482421875, 5.928979873657227, 5.568490028381348, 3.7048230171203613, 3.668931007385254, 1.4217259883880615, 0.9851832985877991, 0.08866658806800842, 0.08865603059530258, 0.08866262435913086, 0.08864840120077133, 0.08864698559045792, 0.08864323794841766, 0.08863794058561325, 0.08864028006792068, 0.08864010870456696, 0.08864038437604904, 0.08863677084445953, 0.08864211291074753, 0.08865112066268921, 0.08864478021860123, 0.08865001797676086, 0.0886506661772728, 0.08864135295152664, 0.08865383267402649, 0.08864999562501907, 0.08864758908748627, 0.08864548802375793, 174.2239227294922, 80.31578826904297, 45.045162200927734, 35.02101135253906, 31.486413955688477, 39.44036865234375, 14.118281364440918, 12.39309024810791, 11.854806900024414, 10.247054100036621, 9.848374366760254, 9.262663841247559, 8.498229026794434, 8.21102523803711, 6.155470848083496, 5.154940128326416, 4.613045692443848, 4.373657703399658, 4.372771263122559, 4.010702133178711, 3.9966769218444824, 3.808551788330078, 3.579617977142334, 3.3530664443969727, 3.315056562423706, 3.090850830078125, 3.0295748710632324, 1.743186354637146, 1.7107174396514893, 0.9862802028656006, 227.1853485107422, 225.17689514160156, 8.017261505126953, 5.933541297912598, 5.065472602844238, 4.059991359710693, 4.005146503448486, 3.2533061504364014, 3.096299171447754, 3.049825668334961, 2.4749667644500732, 2.418172597885132, 2.322453022003174, 2.2440102100372314, 1.6678919792175293, 1.4462754726409912, 1.2030431032180786, 1.1971392631530762, 1.0041475296020508, 0.593489408493042, 0.4558839797973633, 0.34438320994377136, 0.0328943245112896, 0.03289518132805824, 0.03289324790239334, 0.03289327397942543, 0.03289412334561348, 0.03178497776389122, 0.031782958656549454, 0.031782958656549454, 0.031782958656549454, 0.031782958656549454, 0.031782958656549454, 0.031782958656549454, 0.03178296610713005, 0.03178301081061363, 0.031782981008291245, 59.373023986816406, 31.476518630981445, 31.18894386291504, 26.04715347290039, 25.731273651123047, 19.956052780151367, 17.41080665588379, 14.28315544128418, 10.588047981262207, 10.177308082580566, 10.045234680175781, 9.161619186401367, 7.834553241729736, 6.477487564086914, 1.5294380187988281, 0.5048519372940063, 0.07222776114940643, 0.07221672683954239, 0.07221673429012299, 0.07221674919128418, 0.07221449911594391, 0.07221989333629608, 0.07221101969480515, 0.07221546024084091, 0.07220994681119919, 0.07220965623855591, 0.0722096636891365, 0.07221175730228424, 0.07220933586359024, 0.0722091943025589, 0.07221048325300217, 0.07221663743257523, 0.07221737504005432, 0.07221242785453796, 0.07221335917711258, 0.07221115380525589, 0.07221133261919022, 69.0390396118164, 35.795135498046875, 32.91132736206055, 19.76250457763672, 14.453731536865234, 13.45096206665039, 13.319931030273438, 10.738763809204102, 10.178197860717773, 6.973453044891357, 6.481215476989746, 5.650088787078857, 1.774093508720398, 14.901266098022461, 0.46361950039863586, 0.06495457887649536, 0.06492891162633896, 0.06492891162633896, 0.06492891162633896, 0.0649244412779808, 0.06491979211568832, 0.0649208053946495, 0.06493719667196274, 0.06491969525814056, 0.06491363048553467, 0.06491154432296753, 0.06491158902645111, 0.06490929424762726, 0.06491566449403763, 0.06490917503833771, 0.06491340696811676, 0.06491798162460327, 0.06491276621818542, 78.85202026367188, 37.58995819091797, 13.106795310974121, 12.545562744140625, 9.558289527893066, 8.267909049987793, 7.143015384674072, 6.470851421356201, 4.608139514923096, 4.3471198081970215, 3.5954442024230957, 3.586394786834717, 2.992504119873047, 2.98225474357605, 2.0596368312835693, 1.9851984977722168, 1.6150518655776978, 1.3952877521514893, 1.3864086866378784, 0.8990064859390259, 0.7838213443756104, 0.7824065685272217, 0.578018069267273, 0.5032695531845093, 0.07045279443264008, 0.07045423984527588, 0.07044878602027893, 0.07044878602027893, 0.07044878602027893, 0.07044879347085953, 50.87443542480469, 31.23748779296875, 27.805927276611328, 13.177623748779297, 11.138690948486328, 9.261446952819824, 6.4309186935424805, 4.168116569519043, 3.7114098072052, 1.5679070949554443, 0.7238500714302063, 0.3631809949874878, 0.0650608018040657, 0.06505465507507324, 0.06505580991506577, 0.06505466252565384, 0.06505222618579865, 0.0650496706366539, 0.06504829227924347, 0.06505309790372849, 0.06505467742681503, 0.06504829227924347, 0.06504829972982407, 0.06504896283149719, 0.06504829972982407, 0.06504751741886139, 0.06504927575588226, 0.06504830718040466, 0.06504710018634796, 0.06504710018634796, 0.0650506317615509, 0.0650554746389389, 0.06504958122968674, 0.06504928320646286, 0.06505031883716583, 47.71095657348633, 39.54888153076172, 21.099254608154297, 12.229133605957031, 11.260393142700195, 7.97296142578125, 5.321130275726318, 2.1106345653533936, 1.0948008298873901, 0.6718881726264954, 0.06045394763350487, 0.060454681515693665, 0.06045472249388695, 0.06045345589518547, 0.06045345589518547, 0.06045345589518547, 0.06045396253466606, 0.060455381870269775, 0.060446590185165405, 0.06044293940067291, 0.060444463044404984, 0.060440897941589355, 0.060440544039011, 0.0604444220662117, 0.06044016778469086, 0.06043989583849907, 0.06044474244117737, 0.06044287234544754, 0.06044003367424011, 0.06044106185436249, 0.060447901487350464, 0.060445234179496765, 0.06044201925396919, 0.06044337525963783, 0.06044449284672737, 0.0604417622089386, 0.06044242903590202, 35.67483901977539, 31.414384841918945, 22.896717071533203, 22.614503860473633, 18.555051803588867, 16.439485549926758, 4.233651638031006, 4.130214691162109, 4.080782890319824, 0.6363877654075623, 0.048622895032167435, 0.04862784594297409, 0.04861372336745262, 0.04861025512218475, 0.048612818121910095, 0.04861025512218475, 0.04861066862940788, 0.04861025512218475, 0.0486079640686512, 0.04860764369368553, 0.04860547184944153, 0.04860547184944153, 0.04860547184944153, 0.048604369163513184, 0.04860791563987732, 0.04860639199614525, 0.048611778765916824, 0.04860655590891838, 0.04860579967498779, 0.04860355332493782, 0.04860355332493782, 0.04860428348183632, 0.048612527549266815, 0.04860961064696312, 0.04860777035355568, 0.04860737547278404, 0.04860684275627136, 0.04860615357756615]}, \"token.table\": {\"Term\": [\"acceder\", \"accompagner\", \"accord\", \"accueillir\", \"acquisition\", \"acte\", \"action\", \"activite\", \"administration\", \"adresse\", \"aerienn\", \"aeroport\", \"affaire\", \"affaires_etrangere\", \"affirme\", \"afriqu\", \"age\", \"agent\", \"agir\", \"ainsi\", \"ainsi\", \"air\", \"algerie\", \"aller\", \"alors\", \"ambassade\", \"ambassadeur\", \"ameliorer\", \"amendement\", \"americain\", \"an\", \"annee\", \"annoncer\", \"appareil\", \"appartenir\", \"apre\", \"apre\", \"arabe\", \"arme\", \"arrestation\", \"arrive\", \"article\", \"assurer\", \"attendre\", \"atterrir\", \"attribue\", \"audience\", \"autour\", \"autre\", \"beau\", \"beaucoup\", \"besoin\", \"biens_appartenant\", \"blanchiment\", \"bon_nombre\", \"bonne_partie\", \"bord\", \"britannique\", \"budget\", \"cadre\", \"candidat\", \"capital\", \"carte\", \"caserne\", \"cause\", \"cellule_terroriste\", \"centre\", \"cependant\", \"cette_annee\", \"cette_semaine\", \"chaine\", \"chambre\", \"charge\", \"chef\", \"choisir\", \"chute\", \"chuter\", \"circulaire\", \"clarification\", \"classe\", \"climat\", \"collaboration\", \"commemoration\", \"commission\", \"commun\", \"communication\", \"compagnie\", \"compassion\", \"complexe\", \"compte\", \"concerne\", \"concerner\", \"condoleance\", \"conduite\", \"conference\", \"confirme\", \"congre\", \"conseil\", \"conseiller\", \"consommateur\", \"continue\", \"contrat\", \"cooperation\", \"cote\", \"cout\", \"c\\u0153ur\", \"dece\", \"decembre\", \"decision\", \"declaration\", \"decouvert\", \"definitivement\", \"degre\", \"departement\", \"deplacement\", \"depute\", \"dernier\", \"destination\", \"developpement\", \"developpemer\", \"diffusion\", \"dire\", \"direction\", \"direction_general\", \"direction_generale\", \"dirhams\", \"dirigeant\", \"discuter\", \"disponibilite\", \"domaine\", \"domicile\", \"don\", \"donne\", \"donnee\", \"dossier\", \"droit\", \"e\", \"eau\", \"economiqu\", \"education_national\", \"effectif\", \"effectue\", \"effectuer\", \"effet\", \"effort\", \"egypte\", \"el_othmani\", \"electronique\", \"element\", \"eleve\", \"eme\", \"emmanuel_macron\", \"encore\", \"energie\", \"enfant\", \"entendre\", \"entretien\", \"equipage\", \"equipe\", \"equipement\", \"espagn\", \"espagne\", \"espagnol\", \"etabli\", \"etablissement\", \"etat\", \"etats_uni\", \"ete\", \"eter\", \"europeenn\", \"examen\", \"exprimer\", \"faire\", \"finance\", \"financier\", \"fixe\", \"fonction\", \"fonctionnaire\", \"football\", \"fort\", \"fournir\", \"frais\", \"francai\", \"froid\", \"frontiere\", \"garde\", \"gare\", \"general\", \"gestion\", \"global\", \"gouvernement\", \"groupe\", \"hausse\", \"haut\", \"heure\", \"horaire\", \"ii\", \"important\", \"inauguration\", \"inaugure\", \"individu\", \"industrie\", \"inscrire\", \"installation\", \"instar\", \"international\", \"interpol\", \"intervenir\", \"intervention\", \"investitur\", \"invite\", \"islam\", \"jour\", \"journaliste\", \"juif\", \"jusqu\", \"justic\", \"justice\", \"lancer\", \"large\", \"lieu\", \"ligne\", \"local\", \"loi\", \"loin\", \"lors\", \"lundi\", \"magnitude\", \"manifestation\", \"mardi\", \"marge\", \"maritime\", \"marrakech\", \"mars\", \"membre\", \"mercredi\", \"merite\", \"message\", \"meteorologie_national\", \"mettre\", \"mieux\", \"militaire\", \"milliard\", \"millier\", \"million\", \"mine\", \"minister\", \"ministre\", \"mise\", \"missile\", \"mobilisation\", \"modification\", \"moins\", \"mois\", \"monde\", \"mondial\", \"mort\", \"mouvement\", \"moyen_orier\", \"national\", \"national\", \"neig\", \"niveau\", \"nombre\", \"nombreux\", \"nomination\", \"non\", \"nord\", \"notamment\", \"note\", \"nouveau\", \"nouveau_president\", \"novembre\", \"numeriqu\", \"objectif\", \"obliger\", \"obtention\", \"occasion\", \"officiel\", \"offrir\", \"operation\", \"ordre\", \"organisation\", \"ouvrir\", \"parent\", \"parfois\", \"parlementaire\", \"part\", \"participation\", \"particulier\", \"partir\", \"partis_politique\", \"passage\", \"payer\", \"pays\", \"permettre\", \"personne\", \"personnel\", \"petit\", \"peu\", \"peuple\", \"place\", \"plan\", \"plateforme\", \"pluie\", \"plus\", \"plus_grand\", \"point\", \"polic\", \"police\", \"politique\", \"positionn\", \"post\", \"poste\", \"poursuivre\", \"pre\", \"precisement\", \"premier\", \"prendre\", \"preparatif\", \"presence\", \"present\", \"presidence\", \"president\", \"president_francai\", \"presse\", \"prevue\", \"principal\", \"prise\", \"prive\", \"prix\", \"prochain\", \"prochainement\", \"procureur\", \"programme\", \"projet\", \"propos\", \"propose\", \"protection\", \"province\", \"public\", \"publier\", \"quant\", \"question\", \"quitter\", \"rabattre\", \"rafale\", \"raison\", \"reception\", \"recherche\", \"reconciliation_historiqu\", \"regagner\", \"region\", \"relation\", \"rencontre\", \"rendre\", \"renforcer\", \"representant\", \"representer\", \"republique_arab\", \"responsabilite\", \"retir\", \"retrouve\", \"retrouver\", \"reunion\", \"reussi\", \"revue\", \"richter\", \"risque\", \"roi_mohammed\", \"royal\", \"royaum\", \"royaume\", \"rumeur\", \"sahara\", \"sahraouie_democratiqu\", \"saisir\", \"sale\", \"samedi\", \"sanction\", \"sante\", \"saoudien\", \"satellite\", \"sauvetage\", \"secretaire_etat\", \"secretaire_general\", \"secteur\", \"securit\", \"securite\", \"sein\", \"sejour\", \"serieux\", \"service\", \"sidi\", \"signe\", \"signer\", \"site\", \"situation\", \"situee\", \"social\", \"soiree\", \"sortir\", \"source\", \"soutien\", \"sportif\", \"suicide\", \"suisse\", \"suite\", \"superieur\", \"surete_national\", \"surveillance\", \"systeme\", \"taux\", \"tel\", \"tenir\", \"tenue\", \"terme\", \"territoir\", \"terrorisme\", \"tete\", \"total\", \"touch\", \"toucher\", \"tour\", \"traduire\", \"trafic\", \"travail\", \"tre\", \"unesco\", \"vague\", \"venir\", \"vent\", \"vi\", \"vi_rendu\", \"vi_vier\", \"ville\", \"visa\", \"vise\", \"visite\", \"visite_officiell\", \"voir\", \"vol\", \"zone\"], \"Topic\": [19, 12, 2, 2, 8, 4, 13, 7, 5, 8, 17, 2, 1, 20, 3, 3, 6, 4, 18, 1, 13, 4, 9, 1, 6, 4, 3, 6, 11, 18, 1, 10, 5, 17, 14, 1, 7, 11, 4, 6, 13, 2, 18, 20, 17, 17, 14, 2, 7, 13, 1, 1, 10, 10, 20, 13, 7, 1, 1, 10, 19, 10, 8, 13, 2, 14, 15, 7, 10, 17, 6, 3, 11, 10, 7, 20, 13, 11, 11, 6, 17, 14, 3, 1, 14, 6, 2, 4, 3, 5, 7, 4, 4, 11, 3, 13, 5, 10, 1, 13, 11, 12, 2, 15, 15, 10, 4, 13, 5, 5, 3, 5, 16, 8, 13, 11, 6, 1, 6, 10, 20, 19, 13, 14, 12, 15, 11, 2, 10, 13, 6, 3, 8, 4, 8, 1, 11, 10, 2, 4, 10, 10, 17, 5, 14, 18, 10, 12, 6, 5, 6, 8, 1, 13, 4, 2, 17, 7, 1, 8, 14, 5, 14, 10, 5, 1, 18, 19, 1, 13, 3, 11, 3, 2, 6, 13, 10, 8, 3, 2, 12, 5, 5, 13, 4, 17, 19, 14, 6, 15, 10, 14, 5, 4, 6, 4, 3, 5, 13, 16, 6, 7, 13, 15, 7, 2, 7, 3, 11, 9, 14, 4, 3, 10, 6, 3, 11, 8, 10, 7, 4, 12, 1, 2, 4, 8, 20, 16, 12, 16, 18, 15, 7, 20, 7, 3, 14, 9, 13, 12, 15, 8, 10, 6, 15, 3, 4, 11, 15, 8, 7, 2, 4, 2, 13, 12, 8, 2, 7, 6, 16, 13, 15, 10, 8, 1, 4, 11, 2, 17, 5, 9, 3, 12, 12, 11, 7, 1, 4, 7, 8, 4, 19, 3, 5, 6, 3, 7, 16, 8, 11, 11, 8, 6, 17, 4, 3, 1, 7, 19, 1, 17, 8, 12, 13, 6, 3, 2, 14, 7, 16, 17, 14, 1, 18, 1, 11, 16, 2, 18, 4, 15, 10, 5, 17, 2, 8, 10, 7, 9, 6, 6, 8, 14, 13, 2, 1, 8, 17, 20, 1, 12, 16, 20, 1, 4, 20, 4, 17, 7, 11, 6, 11, 2, 2, 7, 2, 3, 15, 17, 5, 5, 6, 7, 7, 14, 3, 16, 13, 9, 8, 15, 17, 8, 8, 17, 1, 13, 4, 3, 1, 4, 6, 17, 12, 16, 1, 5, 18, 6, 17, 8, 12, 1, 2, 12, 7, 3, 10, 2, 9, 1, 13, 8, 13, 6, 17, 4, 10, 12, 14, 6, 10, 7, 7, 3, 6, 14, 14, 9, 17, 16, 13, 19, 11, 15, 15, 19, 19, 11, 12, 13, 18, 9, 3, 3, 7, 17, 18, 2, 16, 2, 16], \"Freq\": [0.44487276673316956, 0.7615304589271545, 0.9259830713272095, 0.7490647435188293, 0.8064637184143066, 0.8465136289596558, 0.6448942422866821, 0.6846928000450134, 0.9418957233428955, 0.935636043548584, 0.7749850153923035, 0.8880352973937988, 0.9575477838516235, 0.9503235220909119, 0.9690789580345154, 0.8656421303749084, 0.8022323846817017, 0.9565960168838501, 0.8308111429214478, 0.02412206120789051, 0.9407604336738586, 0.9327190518379211, 0.9609150886535645, 0.9762221574783325, 0.9852269887924194, 0.9058607816696167, 0.9676356315612793, 0.6701995134353638, 0.44466137886047363, 0.9531179666519165, 0.9801149964332581, 0.9693119525909424, 0.9724321365356445, 0.676468014717102, 0.32777419686317444, 0.3597404956817627, 0.6279106736183167, 0.9308931827545166, 0.9555850625038147, 0.8996670842170715, 0.7952836155891418, 0.8665047287940979, 0.7497883439064026, 0.9393322467803955, 0.4258304238319397, 0.3387126922607422, 0.7130440473556519, 0.6711338758468628, 0.9640199542045593, 0.7781051993370056, 0.9277312159538269, 0.8401088714599609, 0.5596781969070435, 0.34976357221603394, 0.44960635900497437, 0.8944622278213501, 0.9215067625045776, 0.9154512286186218, 0.8242085576057434, 0.9705456495285034, 0.8692452907562256, 0.7904375195503235, 0.7542353272438049, 0.6052790284156799, 0.9590860605239868, 0.4902474880218506, 0.8959162831306458, 0.5807592272758484, 0.9273384213447571, 0.46642571687698364, 0.9412375688552856, 0.9093738794326782, 0.97293621301651, 0.9834607839584351, 0.8541499972343445, 0.9393699169158936, 0.6152418255805969, 0.8578258156776428, 0.7548902630805969, 0.9054614901542664, 0.6581184267997742, 0.45493942499160767, 0.7807583212852478, 0.9510866403579712, 0.5092870593070984, 0.8822594881057739, 0.9657836556434631, 0.9289418458938599, 0.3654419779777527, 0.9329980611801147, 0.89020836353302, 0.961983859539032, 0.9615610837936401, 0.7961909770965576, 0.9454218745231628, 0.859958291053772, 0.3487381041049957, 0.9305662512779236, 0.9199967384338379, 0.6739982962608337, 0.9461901187896729, 0.7667700052261353, 0.7872790694236755, 0.8390982747077942, 0.4833177626132965, 0.6257156729698181, 0.8799796104431152, 0.7179038524627686, 0.9223421216011047, 0.7278419733047485, 0.8216368556022644, 0.7545263171195984, 0.9771913886070251, 0.4094144105911255, 0.6740990877151489, 0.8784255385398865, 0.9737251996994019, 0.890794038772583, 0.8800698518753052, 0.379842609167099, 0.6871162056922913, 0.8377922177314758, 0.9898456335067749, 0.3569204807281494, 0.9665350317955017, 0.9525395631790161, 0.5797973871231079, 0.783700168132782, 0.3825180232524872, 0.6535022258758545, 0.680909276008606, 0.7427713871002197, 0.9250563383102417, 0.8583956956863403, 0.811022937297821, 0.9525783061981201, 0.5240131616592407, 0.9596272110939026, 0.7466559410095215, 0.9756556153297424, 0.6471292972564697, 0.5838503837585449, 0.9212338328361511, 0.8809248805046082, 0.6111540794372559, 0.7571815848350525, 0.9404388070106506, 0.39479801058769226, 0.9419644474983215, 0.7995842099189758, 0.7755545973777771, 0.9339641332626343, 0.9849012494087219, 0.7449307441711426, 0.9256992340087891, 0.7510749697685242, 0.5516354441642761, 0.3333204984664917, 0.8713747262954712, 0.9709601402282715, 0.8314394354820251, 0.8710227012634277, 0.9921764731407166, 0.3723664879798889, 0.512363612651825, 0.9733123183250427, 0.8654581904411316, 0.9726484417915344, 0.9813221096992493, 0.6104830503463745, 0.958125650882721, 0.8762034177780151, 0.9859662652015686, 0.8746951222419739, 0.712877631187439, 0.6112857460975647, 0.8878157734870911, 0.9275063276290894, 0.8677679300308228, 0.9152467250823975, 0.8024891018867493, 0.8925021886825562, 0.898591160774231, 0.9380439519882202, 0.8958039879798889, 0.8135161399841309, 0.7249449491500854, 0.6175493001937866, 0.8626096248626709, 0.8511785268783569, 0.983654797077179, 0.9921444654464722, 0.8637039065361023, 0.8323579430580139, 0.9423778653144836, 0.8557066321372986, 0.8427284359931946, 0.9348047375679016, 0.809831976890564, 0.5978047847747803, 0.8523364067077637, 0.9401307702064514, 0.8468741774559021, 0.8613698482513428, 0.3500557839870453, 0.9972807168960571, 0.6638906598091125, 0.5255714654922485, 0.7205756902694702, 0.378356397151947, 0.6445471048355103, 0.8420508503913879, 0.9704144597053528, 0.8648217916488647, 0.8279740214347839, 0.9617406725883484, 0.8754953742027283, 0.920138418674469, 0.9188523292541504, 0.5792791247367859, 0.9442551732063293, 0.9335091710090637, 0.9361661076545715, 0.9394659996032715, 0.8752577900886536, 0.9882993698120117, 0.9661156535148621, 0.893564760684967, 0.8826221823692322, 0.9634267687797546, 0.6370956897735596, 0.6464921236038208, 0.9293764233589172, 0.6995459198951721, 0.9387971758842468, 0.9808372855186462, 0.3561699688434601, 0.9811669588088989, 0.9770770072937012, 0.9803279042243958, 0.9051837921142578, 0.974898099899292, 0.8560887575149536, 0.9397122859954834, 0.9382367134094238, 0.7179136872291565, 0.9636827707290649, 0.9911182522773743, 0.9464744925498962, 0.8612380027770996, 0.6562027335166931, 0.7556151747703552, 0.9562103748321533, 0.9733965396881104, 0.8764664530754089, 0.856240451335907, 0.9633878469467163, 0.8971161246299744, 0.7609865069389343, 0.4773620665073395, 0.4773620665073395, 0.9655359387397766, 0.9416422843933105, 0.9476804733276367, 0.9627475142478943, 0.940839409828186, 0.9280083179473877, 0.9482731819152832, 0.9810208082199097, 0.6596014499664307, 0.9897788166999817, 0.3970737159252167, 0.8338109850883484, 0.33675891160964966, 0.9059297442436218, 0.3557214140892029, 0.3399635851383209, 0.9778015613555908, 0.9431363940238953, 0.9278671741485596, 0.9582682847976685, 0.9493036866188049, 0.9261219501495361, 0.9397823810577393, 0.49914517998695374, 0.8838962912559509, 0.8471649289131165, 0.9556920528411865, 0.8510871529579163, 0.5870604515075684, 0.9804167151451111, 0.6033309102058411, 0.8415411710739136, 0.9322202205657959, 0.9823675155639648, 0.9615143537521362, 0.9751834869384766, 0.9529489874839783, 0.912440299987793, 0.8569421768188477, 0.9440211653709412, 0.9704793691635132, 0.8908689022064209, 0.8431410193443298, 0.8928937911987305, 0.9916551113128662, 0.6540442705154419, 0.9335415363311768, 0.3833249509334564, 0.9789773225784302, 0.8736234307289124, 0.42557403445243835, 0.4971688687801361, 0.9400341510772705, 0.6969301700592041, 0.9804357886314392, 0.4237755537033081, 0.9569985270500183, 0.9476590752601624, 0.4356939494609833, 0.9269222617149353, 0.7461138963699341, 0.8131523132324219, 0.953518271446228, 0.8098365068435669, 0.9457809329032898, 0.9595857858657837, 0.8451317548751831, 0.8643791079521179, 0.6995192170143127, 0.9313063621520996, 0.9470584988594055, 0.8731229305267334, 0.7959516048431396, 0.8315056562423706, 0.9736053347587585, 0.9390714764595032, 0.7581413984298706, 0.8037697672843933, 0.7056462168693542, 0.9603492617607117, 0.9693299531936646, 0.8191989064216614, 0.8875444531440735, 0.8935402035713196, 0.9821757674217224, 0.943263590335846, 0.9508318305015564, 0.4832749366760254, 0.8316569328308105, 0.4732404947280884, 0.8480921983718872, 0.982654333114624, 0.8912569880485535, 0.8528967499732971, 0.9755279421806335, 0.8467308878898621, 0.8113062977790833, 0.8516807556152344, 0.4056873321533203, 0.8112717866897583, 0.48188406229019165, 0.5559374690055847, 0.8273720741271973, 0.916059672832489, 0.519667387008667, 0.3386881649494171, 0.8308443427085876, 0.8186571598052979, 0.995965838432312, 0.9305971264839172, 0.9682098031044006, 0.8859966397285461, 0.9011088609695435, 0.9613845348358154, 0.6287335157394409, 0.9118910431861877, 0.7444890737533569, 0.9600231647491455, 0.8126254081726074, 0.942783534526825, 0.8655037879943848, 0.8367398977279663, 0.5631987452507019, 0.9014322757720947, 0.8729864358901978, 0.840095579624176, 0.9961162209510803, 0.8814178705215454, 0.9492329359054565, 0.3376970589160919, 0.42989733815193176, 0.9807029366493225, 0.8970159888267517, 0.8501090407371521, 0.8655589818954468, 0.9371363520622253, 0.9552401304244995, 0.718814492225647, 0.8898862600326538, 0.6981725692749023, 0.8767830729484558, 0.719715416431427, 0.8990910053253174, 0.3925640285015106, 0.5229343771934509, 0.8989381194114685, 0.9881857633590698, 0.8905245661735535, 0.9241918325424194, 0.7496164441108704, 0.9333276152610779, 0.8302793502807617, 0.7339001297950745, 0.9649197459220886, 0.6935074329376221, 0.8407505750656128, 0.6381750702857971, 0.7061403393745422, 0.9114409685134888, 0.7465659976005554, 0.7450920343399048, 0.7775499820709229, 0.5425081849098206, 0.7302035689353943, 0.883429229259491, 0.9293579459190369, 0.9738895297050476, 0.3744271695613861, 0.9271485805511475, 0.9856935143470764, 0.956752359867096, 0.9724329710006714, 0.5646013021469116, 0.9625136852264404, 0.9894453883171082, 0.7624284029006958, 0.7763461470603943, 0.9448676705360413, 0.7324237823486328, 0.9374713897705078, 0.7886150479316711, 0.8653719425201416]}, \"R\": 30, \"plot.opts\": {\"ylab\": \"PC2\", \"xlab\": \"PC1\"}, \"mdsDat\": {\"x\": [-0.02686685775137365, 0.06701752484581888, -0.022194206722660904, -0.01853149719768855, 0.05377231080783352, -0.028566531197619198, -0.03178893021093519, -0.027275273325317092, -0.01860336316348101, -0.030293410072289462, -0.02564718024021244, -0.027583854076249345, -0.022644044905888675, 0.3461627599280334, -0.030687871322170386, -0.03164898706148265, -0.031319165323926056, -0.03117475387783891, -0.031150387969449328, -0.03097628116310289], \"y\": [0.024293978425033096, -0.30578700313600465, 0.017050640061530523, 0.015951808854214, -0.11041201359091504, 0.01982255593107227, 0.023841936772250015, 0.01849477217157979, 0.014805665133033613, 0.01868031716290053, 0.017878854931787765, 0.018278076855250062, 0.0173165603074833, 0.10155483755116482, 0.018388637922726582, 0.01927395676050742, 0.017848819799795988, 0.017359470838933463, 0.01734847394540357, 0.018009653302252147], \"cluster\": [1, 1, 1, 1, 1, 1, 1, 1, 1, 1, 1, 1, 1, 1, 1, 1, 1, 1, 1, 1], \"topics\": [1, 2, 3, 4, 5, 6, 7, 8, 9, 10, 11, 12, 13, 14, 15, 16, 17, 18, 19, 20], \"Freq\": [8.632575988769531, 8.228742599487305, 7.037132263183594, 6.887969970703125, 6.600344181060791, 6.218254566192627, 5.75444221496582, 5.505354881286621, 5.322634220123291, 5.028062343597412, 5.026877403259277, 4.927426338195801, 4.848786354064941, 3.4503512382507324, 3.3927512168884277, 3.063356876373291, 2.9622843265533447, 2.5792224407196045, 2.396775484085083, 2.136648654937744]}, \"lambda.step\": 0.01};\n",
       "\n",
       "function LDAvis_load_lib(url, callback){\n",
       "  var s = document.createElement('script');\n",
       "  s.src = url;\n",
       "  s.async = true;\n",
       "  s.onreadystatechange = s.onload = callback;\n",
       "  s.onerror = function(){console.warn(\"failed to load library \" + url);};\n",
       "  document.getElementsByTagName(\"head\")[0].appendChild(s);\n",
       "}\n",
       "\n",
       "if(typeof(LDAvis) !== \"undefined\"){\n",
       "   // already loaded: just create the visualization\n",
       "   !function(LDAvis){\n",
       "       new LDAvis(\"#\" + \"ldavis_el20271404975741115367941243302\", ldavis_el20271404975741115367941243302_data);\n",
       "   }(LDAvis);\n",
       "}else if(typeof define === \"function\" && define.amd){\n",
       "   // require.js is available: use it to load d3/LDAvis\n",
       "   require.config({paths: {d3: \"https://cdnjs.cloudflare.com/ajax/libs/d3/3.5.5/d3.min\"}});\n",
       "   require([\"d3\"], function(d3){\n",
       "      window.d3 = d3;\n",
       "      LDAvis_load_lib(\"https://cdn.rawgit.com/bmabey/pyLDAvis/files/ldavis.v1.0.0.js\", function(){\n",
       "        new LDAvis(\"#\" + \"ldavis_el20271404975741115367941243302\", ldavis_el20271404975741115367941243302_data);\n",
       "      });\n",
       "    });\n",
       "}else{\n",
       "    // require.js not available: dynamically load d3 & LDAvis\n",
       "    LDAvis_load_lib(\"https://cdnjs.cloudflare.com/ajax/libs/d3/3.5.5/d3.min.js\", function(){\n",
       "         LDAvis_load_lib(\"https://cdn.rawgit.com/bmabey/pyLDAvis/files/ldavis.v1.0.0.js\", function(){\n",
       "                 new LDAvis(\"#\" + \"ldavis_el20271404975741115367941243302\", ldavis_el20271404975741115367941243302_data);\n",
       "            })\n",
       "         });\n",
       "}\n",
       "</script>"
      ],
      "text/plain": [
       "PreparedData(topic_coordinates=           Freq  cluster  topics         x         y\n",
       "topic                                               \n",
       "13     8.632576        1       1 -0.026867  0.024294\n",
       "18     8.228743        1       2  0.067018 -0.305787\n",
       "6      7.037132        1       3 -0.022194  0.017051\n",
       "7      6.887970        1       4 -0.018531  0.015952\n",
       "17     6.600344        1       5  0.053772 -0.110412\n",
       "19     6.218255        1       6 -0.028567  0.019823\n",
       "14     5.754442        1       7 -0.031789  0.023842\n",
       "9      5.505355        1       8 -0.027275  0.018495\n",
       "11     5.322634        1       9 -0.018603  0.014806\n",
       "16     5.028062        1      10 -0.030293  0.018680\n",
       "15     5.026877        1      11 -0.025647  0.017879\n",
       "4      4.927426        1      12 -0.027584  0.018278\n",
       "8      4.848786        1      13 -0.022644  0.017317\n",
       "5      3.450351        1      14  0.346163  0.101555\n",
       "12     3.392751        1      15 -0.030688  0.018389\n",
       "10     3.063357        1      16 -0.031649  0.019274\n",
       "2      2.962284        1      17 -0.031319  0.017849\n",
       "0      2.579222        1      18 -0.031175  0.017359\n",
       "3      2.396775        1      19 -0.031150  0.017348\n",
       "1      2.136649        1      20 -0.030976  0.018010, topic_info=     Category        Freq           Term       Total  loglift  logprob\n",
       "809   Default  628.000000  international  628.000000  30.0000  30.0000\n",
       "2826  Default  520.000000        securit  520.000000  29.0000  29.0000\n",
       "46    Default  462.000000   roi_mohammed  462.000000  28.0000  28.0000\n",
       "1847  Default  228.000000       espagnol  228.000000  27.0000  27.0000\n",
       "3927  Default  226.000000         groupe  226.000000  26.0000  26.0000\n",
       "...       ...         ...            ...         ...      ...      ...\n",
       "1775  Topic20    0.048610         alerte    1.636675   0.3293  -9.0571\n",
       "482   Topic20    0.048608      egalement    1.636645   0.3293  -9.0571\n",
       "757   Topic20    0.048607           tout    1.636826   0.3292  -9.0571\n",
       "3600  Topic20    0.048607           hier    1.636844   0.3292  -9.0572\n",
       "1275  Topic20    0.048606          neige    1.636656   0.3293  -9.0572\n",
       "\n",
       "[703 rows x 6 columns], token_table=      Topic      Freq              Term\n",
       "term                                   \n",
       "2887     19  0.444873           acceder\n",
       "128      12  0.761530       accompagner\n",
       "1181      2  0.925983            accord\n",
       "2801      2  0.749065        accueillir\n",
       "1933      8  0.806464       acquisition\n",
       "...     ...       ...               ...\n",
       "2061     18  0.944868            visite\n",
       "3078      2  0.732424  visite_officiell\n",
       "641      16  0.937471              voir\n",
       "3355      2  0.788615               vol\n",
       "2550     16  0.865372              zone\n",
       "\n",
       "[443 rows x 3 columns], R=30, lambda_step=0.01, plot_opts={'ylab': 'PC2', 'xlab': 'PC1'}, topic_order=[14, 19, 7, 8, 18, 20, 15, 10, 12, 17, 16, 5, 9, 6, 13, 11, 3, 1, 4, 2])"
      ]
     },
     "execution_count": 15,
     "metadata": {},
     "output_type": "execute_result"
    }
   ],
   "source": [
    "# Visualize the topics\n",
    "pyLDAvis.enable_notebook()\n",
    "vis = pyLDAvis.gensim.prepare(lda_model, corpus, id2word)\n",
    "vis"
   ]
  },
  {
   "cell_type": "markdown",
   "metadata": {},
   "source": [
    "Chaque bulle du graphique de gauche représente un sujet. Plus la bulle est grande, plus ce sujet est répandu.\n",
    "\n",
    "Un bon modèle de sujet aura des bulles assez grandes et non superposées dispersées dans le graphique au lieu d'être regroupées dans un quadrant.\n",
    "\n",
    "Un modèle avec trop de sujets aura généralement de nombreux chevauchements, des bulles de petite taille regroupées dans une région du graphique.\n",
    "\n",
    "D'accord, si vous déplacez le curseur sur l'une des bulles, les mots et les barres sur le côté droit seront mis à jour. Ces mots sont les mots-clés saillants qui forment le sujet sélectionné"
   ]
  },
  {
   "cell_type": "code",
   "execution_count": 16,
   "metadata": {},
   "outputs": [],
   "source": [
    "#import os\n",
    "#os.environ.update({'MALLET_HOME':r'/home/jupyter/WISD Notebooks/Web Mining/Projet Mining Social Media and News websites  in Morocco/mallet/mallet-2.0.8/'})"
   ]
  },
  {
   "cell_type": "code",
   "execution_count": 41,
   "metadata": {},
   "outputs": [],
   "source": [
    "path=\"mallet/mallet-2.0.8/bin/mallet\"\n",
    "\n",
    " ldamallet = gensim.models.wrappers.LdaMallet(path, corpus=corpus, num_topics=20, id2word=id2word)\n",
    "#model = gensim.models.wrappers.LdaMallet(mallet_path, corpus=corpus, num_topics=num_topics, id2word=id2word)"
   ]
  },
  {
   "cell_type": "markdown",
   "metadata": {},
   "source": [
    "# Trouver le nombre optimal de sujets pour LDA :\n",
    "\n",
    "Pour trouver le nombre optimal de sujets est de construire de nombreux modèles LDA avec différentes valeurs de nombre de sujets (k) et de choisir celui qui donne la valeur de cohérence la plus élevée."
   ]
  },
  {
   "cell_type": "code",
   "execution_count": 42,
   "metadata": {},
   "outputs": [],
   "source": [
    "def compute_coherence_values(dictionary, corpus, texts, limit, start=2, step=3):\n",
    "    \"\"\"\n",
    "    Compute c_v coherence for various number of topics\n",
    "\n",
    "    Parameters:\n",
    "    ----------\n",
    "    dictionary : Gensim dictionary\n",
    "    corpus : Gensim corpus\n",
    "    texts : List of input texts\n",
    "    limit : Max num of topics\n",
    "\n",
    "    Returns:\n",
    "    -------\n",
    "    model_list : List of LDA topic models\n",
    "    coherence_values : Coherence values corresponding to the LDA model with respective number of topics\n",
    "    \"\"\"\n",
    "    coherence_values = []\n",
    "    model_list = []\n",
    "    for num_topics in range(start, limit, step):\n",
    "        model=LdaModel(corpus=corpus,id2word=id2word,num_topics=num_topics, random_state=100)\n",
    "        #model = gensim.models.wrappers.LdaMallet(mallet_path, corpus=corpus, num_topics=num_topics, id2word=id2word)\n",
    "        model_list.append(model)\n",
    "        coherencemodel = CoherenceModel(model=model, texts=texts, dictionary=dictionary, coherence='c_v')\n",
    "        coherence_values.append(coherencemodel.get_coherence())\n",
    "\n",
    "    return model_list, coherence_values"
   ]
  },
  {
   "cell_type": "code",
   "execution_count": 43,
   "metadata": {},
   "outputs": [],
   "source": [
    "# Can take a long time to run.\n",
    "model_list, coherence_values = compute_coherence_values(dictionary=id2word, corpus=corpus, texts=data_lemmatized, start=2, limit=100, step=6)"
   ]
  },
  {
   "cell_type": "code",
   "execution_count": 44,
   "metadata": {},
   "outputs": [
    {
     "data": {
      "image/png": "[encoded data removed]",
      "text/plain": [
       "<Figure size 432x288 with 1 Axes>"
      ]
     },
     "metadata": {
      "needs_background": "light"
     },
     "output_type": "display_data"
    }
   ],
   "source": [
    "# Show graph\n",
    "limit=100; start=2; step=6;\n",
    "x = range(start, limit, step)\n",
    "plt.plot(x, coherence_values)\n",
    "plt.xlabel(\"Num Topics\")\n",
    "plt.ylabel(\"Coherence score\")\n",
    "plt.legend((\"coherence_values\"), loc='best')\n",
    "plt.show()"
   ]
  },
  {
   "cell_type": "code",
   "execution_count": 45,
   "metadata": {},
   "outputs": [
    {
     "name": "stdout",
     "output_type": "stream",
     "text": [
      "Num Topics = 2  has Coherence Value of 0.3242\n",
      "Num Topics = 8  has Coherence Value of 0.361\n",
      "Num Topics = 14  has Coherence Value of 0.4017\n",
      "Num Topics = 20  has Coherence Value of 0.404\n",
      "Num Topics = 26  has Coherence Value of 0.4341\n",
      "Num Topics = 32  has Coherence Value of 0.4574\n",
      "Num Topics = 38  has Coherence Value of 0.4647\n",
      "Num Topics = 44  has Coherence Value of 0.4664\n",
      "Num Topics = 50  has Coherence Value of 0.49\n",
      "Num Topics = 56  has Coherence Value of 0.4795\n",
      "Num Topics = 62  has Coherence Value of 0.4914\n",
      "Num Topics = 68  has Coherence Value of 0.4989\n",
      "Num Topics = 74  has Coherence Value of 0.4942\n",
      "Num Topics = 80  has Coherence Value of 0.5019\n",
      "Num Topics = 86  has Coherence Value of 0.5067\n",
      "Num Topics = 92  has Coherence Value of 0.4977\n",
      "Num Topics = 98  has Coherence Value of 0.5112\n"
     ]
    }
   ],
   "source": [
    "# Print the coherence scores\n",
    "for m, cv in zip(x, coherence_values):\n",
    "    print(\"Num Topics =\", m, \" has Coherence Value of\", round(cv, 4))"
   ]
  },
  {
   "cell_type": "code",
   "execution_count": 46,
   "metadata": {},
   "outputs": [
    {
     "name": "stdout",
     "output_type": "stream",
     "text": [
      "[(35,\n",
      "  '0.022*\"plus\" + 0.011*\"faire\" + 0.008*\"roi_mohammed\" + 0.007*\"etat\" + '\n",
      "  '0.006*\"donne\" + 0.006*\"service\" + 0.005*\"apre\" + 0.005*\"direction\" + '\n",
      "  '0.005*\"nouveau\" + 0.005*\"viande\"'),\n",
      " (29,\n",
      "  '0.011*\"americain\" + 0.011*\"nouveau\" + 0.011*\"an\" + 0.008*\"connaître\" + '\n",
      "  '0.008*\"demande\" + 0.008*\"plus\" + 0.008*\"moins\" + 0.008*\"plusieurs_region\" + '\n",
      "  '0.007*\"entreprise\" + 0.007*\"roi_mohammed\"'),\n",
      " (63,\n",
      "  '0.012*\"mettre\" + 0.012*\"royal\" + 0.012*\"vendredi\" + 0.012*\"roi_mohammed\" + '\n",
      "  '0.012*\"direction\" + 0.009*\"attendre\" + 0.009*\"projet\" + 0.008*\"effet\" + '\n",
      "  '0.008*\"gouvernement\" + 0.008*\"part\"'),\n",
      " (44,\n",
      "  '0.015*\"roi_mohammed\" + 0.010*\"nouveau\" + 0.010*\"chef\" + 0.008*\"plus\" + '\n",
      "  '0.008*\"faire\" + 0.008*\"direction\" + 0.006*\"octobre\" + '\n",
      "  '0.006*\"plusieurs_region\" + 0.006*\"rendre\" + 0.006*\"tout\"'),\n",
      " (34,\n",
      "  '0.009*\"province\" + 0.009*\"ville\" + 0.009*\"moins\" + 0.006*\"apre\" + '\n",
      "  '0.006*\"suite\" + 0.006*\"eviter\" + 0.006*\"rapport\" + 0.006*\"octobre\" + '\n",
      "  '0.006*\"organisation\" + 0.006*\"devoir\"'),\n",
      " (48,\n",
      "  '0.021*\"roi_mohammed\" + 0.015*\"venir\" + 0.012*\"lors\" + 0.009*\"americain\" + '\n",
      "  '0.009*\"royaum\" + 0.006*\"moyen_orier\" + 0.006*\"mobile\" + '\n",
      "  '0.006*\"prince_heritier\" + 0.006*\"surete_national\" + 0.006*\"concerner\"'),\n",
      " (66,\n",
      "  '0.020*\"roi_mohammed\" + 0.013*\"tre\" + 0.010*\"jeune\" + 0.010*\"classement\" + '\n",
      "  '0.010*\"rendre\" + 0.010*\"ete\" + 0.007*\"communique\" + 0.007*\"appeler\" + '\n",
      "  '0.007*\"combattant\" + 0.007*\"objectif\"'),\n",
      " (52,\n",
      "  '0.020*\"roi_mohammed\" + 0.011*\"an\" + 0.011*\"suite\" + 0.011*\"venir\" + '\n",
      "  '0.009*\"homme\" + 0.009*\"occasion\" + 0.007*\"ministre\" + 0.006*\"jeune\" + '\n",
      "  '0.006*\"ete\" + 0.006*\"ancien_president\"'),\n",
      " (28,\n",
      "  '0.011*\"roi_mohammed\" + 0.011*\"visite\" + 0.011*\"tre\" + '\n",
      "  '0.008*\"direction_generale\" + 0.008*\"bon\" + 0.005*\"aller\" + 0.005*\"mardi\" + '\n",
      "  '0.005*\"rendre\" + 0.005*\"professeur\" + 0.005*\"surete_nationale\"'),\n",
      " (18,\n",
      "  '0.021*\"ministre\" + 0.017*\"roi_mohammed\" + 0.014*\"projet\" + '\n",
      "  '0.009*\"gouvernement\" + 0.007*\"convocation\" + 0.007*\"lancer\" + '\n",
      "  '0.007*\"police\" + 0.007*\"venir\" + 0.007*\"secteur\" + 0.006*\"mercredi\"'),\n",
      " (1,\n",
      "  '0.011*\"roi_mohammed\" + 0.009*\"apre\" + 0.008*\"public\" + 0.008*\"accident\" + '\n",
      "  '0.008*\"mettre\" + 0.008*\"place\" + 0.008*\"ramadan\" + 0.008*\"passer\" + '\n",
      "  '0.008*\"mois\" + 0.008*\"indique\"'),\n",
      " (6,\n",
      "  '0.012*\"plus\" + 0.012*\"nouveau\" + 0.011*\"faire\" + 0.009*\"roi_mohammed\" + '\n",
      "  '0.007*\"nombre\" + 0.007*\"suite\" + 0.007*\"ville\" + 0.006*\"compte\" + '\n",
      "  '0.005*\"technologie\" + 0.005*\"americaine\"'),\n",
      " (47,\n",
      "  '0.014*\"roi_mohammed\" + 0.009*\"annoncer\" + 0.009*\"ville\" + 0.009*\"projet\" + '\n",
      "  '0.009*\"ete\" + 0.009*\"dimanche\" + 0.008*\"changement\" + 0.006*\"nombreux\" + '\n",
      "  '0.006*\"circulation\" + 0.006*\"gouvernement\"'),\n",
      " (60,\n",
      "  '0.013*\"apre\" + 0.013*\"roi_mohammed\" + 0.011*\"an\" + 0.009*\"service\" + '\n",
      "  '0.007*\"peine\" + 0.007*\"public\" + 0.007*\"meme\" + 0.007*\"million\" + '\n",
      "  '0.007*\"affaire\" + 0.007*\"pays\"'),\n",
      " (58,\n",
      "  '0.011*\"roi_mohammed\" + 0.009*\"affaire\" + 0.009*\"militaire\" + 0.009*\"lundi\" '\n",
      "  '+ 0.009*\"apre\" + 0.006*\"autorite\" + 0.006*\"question\" + 0.006*\"nouveau\" + '\n",
      "  '0.006*\"prevenir\" + 0.006*\"changement\"'),\n",
      " (19,\n",
      "  '0.009*\"grand\" + 0.009*\"indique\" + 0.007*\"an\" + 0.007*\"million\" + '\n",
      "  '0.007*\"venir\" + 0.007*\"mort\" + 0.007*\"premier\" + 0.007*\"rabattre\" + '\n",
      "  '0.005*\"ministre\" + 0.005*\"militaire\"'),\n",
      " (12,\n",
      "  '0.010*\"international\" + 0.006*\"ville\" + 0.006*\"lors\" + 0.006*\"civil\" + '\n",
      "  '0.005*\"force\" + 0.005*\"lettre\" + 0.005*\"pays\" + 0.005*\"occasion\" + '\n",
      "  '0.005*\"train\" + 0.005*\"president_americain\"'),\n",
      " (53,\n",
      "  '0.020*\"roi_mohammed\" + 0.012*\"alors\" + 0.011*\"direction\" + 0.009*\"partir\" + '\n",
      "  '0.008*\"administration\" + 0.008*\"region\" + 0.008*\"chef\" + 0.006*\"faire\" + '\n",
      "  '0.006*\"representant\" + 0.006*\"president\"'),\n",
      " (64,\n",
      "  '0.020*\"roi_mohammed\" + 0.009*\"suite\" + 0.009*\"nouveau\" + 0.009*\"vi\" + '\n",
      "  '0.007*\"tourisme\" + 0.007*\"ainsi\" + 0.007*\"poste\" + 0.007*\"formation\" + '\n",
      "  '0.007*\"plus\" + 0.007*\"politique\"'),\n",
      " (31,\n",
      "  '0.011*\"roi_mohammed\" + 0.010*\"faire\" + 0.010*\"plus\" + 0.008*\"cadre\" + '\n",
      "  '0.008*\"affaire\" + 0.008*\"amende\" + 0.007*\"visite\" + 0.006*\"bien\" + '\n",
      "  '0.005*\"allemand\" + 0.005*\"rendre\"')]\n"
     ]
    }
   ],
   "source": [
    "# Select the model and print the topics\n",
    "optimal_model = model_list[11]\n",
    "model_topics = optimal_model.show_topics(formatted=False)\n",
    "pprint(optimal_model.print_topics(num_words=10))"
   ]
  },
  {
   "cell_type": "markdown",
   "metadata": {},
   "source": [
    "# Trouver le sujet dominant dans chaque phrase :\n",
    "\n",
    "L'une des applications pratiques de la modélisation de sujet est de déterminer de quel sujet traite un document donné.\n",
    "Pour trouver cela, nous trouvons le numéro de topic qui a le pourcentage de contribution le plus élevé dans ce document."
   ]
  },
  {
   "cell_type": "code",
   "execution_count": 47,
   "metadata": {},
   "outputs": [],
   "source": [
    "def format_topics_sentences(ldamodel=lda_model, corpus=corpus, texts=data):\n",
    "    # Init output\n",
    "    sent_topics_df = pd.DataFrame()\n",
    "\n",
    "    # Get main topic in each document\n",
    "    for i, row in enumerate(ldamodel[corpus]):\n",
    "        row = sorted(row, key=lambda x: (x[1]), reverse=True)\n",
    "        # Get the Dominant topic, Perc Contribution and Keywords for each document\n",
    "        for j, (topic_num, prop_topic) in enumerate(row):\n",
    "            if j == 0:  # => dominant topic\n",
    "                wp = ldamodel.show_topic(topic_num)\n",
    "                topic_keywords = \", \".join([word for word, prop in wp])\n",
    "                sent_topics_df = sent_topics_df.append(pd.Series([int(topic_num), round(prop_topic,4), topic_keywords]), ignore_index=True)\n",
    "            else:\n",
    "                break\n",
    "    sent_topics_df.columns = ['Dominant_Topic', 'Perc_Contribution', 'Topic_Keywords']\n",
    "\n",
    "    # Add original text to the end of the output\n",
    "    contents = pd.Series(texts)\n",
    "    sent_topics_df = pd.concat([sent_topics_df, contents], axis=1)\n",
    "    return(sent_topics_df)\n"
   ]
  },
  {
   "cell_type": "code",
   "execution_count": null,
   "metadata": {},
   "outputs": [],
   "source": []
  },
  {
   "cell_type": "code",
   "execution_count": 48,
   "metadata": {},
   "outputs": [
    {
     "data": {
      "text/html": [
       "<div>\n",
       "<style scoped>\n",
       "    .dataframe tbody tr th:only-of-type {\n",
       "        vertical-align: middle;\n",
       "    }\n",
       "\n",
       "    .dataframe tbody tr th {\n",
       "        vertical-align: top;\n",
       "    }\n",
       "\n",
       "    .dataframe thead th {\n",
       "        text-align: right;\n",
       "    }\n",
       "</style>\n",
       "<table border=\"1\" class=\"dataframe\">\n",
       "  <thead>\n",
       "    <tr style=\"text-align: right;\">\n",
       "      <th></th>\n",
       "      <th>Document_No</th>\n",
       "      <th>Dominant_Topic</th>\n",
       "      <th>Topic_Perc_Contrib</th>\n",
       "      <th>Keywords</th>\n",
       "      <th>Text</th>\n",
       "    </tr>\n",
       "  </thead>\n",
       "  <tbody>\n",
       "    <tr>\n",
       "      <th>0</th>\n",
       "      <td>0</td>\n",
       "      <td>42.0</td>\n",
       "      <td>0.8768</td>\n",
       "      <td>ministre, affaires_etrangere, fille, connaître...</td>\n",
       "      <td>Suite à la diffusion d’une interview controver...</td>\n",
       "    </tr>\n",
       "    <tr>\n",
       "      <th>1</th>\n",
       "      <td>1</td>\n",
       "      <td>43.0</td>\n",
       "      <td>0.6716</td>\n",
       "      <td>ville, plus, roi_mohammed, lors, nouveau, roya...</td>\n",
       "      <td>Casablanca a été classée 49e ville la plus acc...</td>\n",
       "    </tr>\n",
       "    <tr>\n",
       "      <th>2</th>\n",
       "      <td>2</td>\n",
       "      <td>16.0</td>\n",
       "      <td>0.9104</td>\n",
       "      <td>alors, autorite, faire, personnel, championnat...</td>\n",
       "      <td>Invitée de l’émission web de Hespress \"Niqach ...</td>\n",
       "    </tr>\n",
       "    <tr>\n",
       "      <th>3</th>\n",
       "      <td>3</td>\n",
       "      <td>48.0</td>\n",
       "      <td>0.8592</td>\n",
       "      <td>roi_mohammed, venir, lors, americain, royaum, ...</td>\n",
       "      <td>Le roi Mohammed VI a adressé un message de fél...</td>\n",
       "    </tr>\n",
       "    <tr>\n",
       "      <th>4</th>\n",
       "      <td>4</td>\n",
       "      <td>34.0</td>\n",
       "      <td>0.8768</td>\n",
       "      <td>province, ville, moins, apre, suite, eviter, r...</td>\n",
       "      <td>Des ménages grondent contre le renchérissement...</td>\n",
       "    </tr>\n",
       "    <tr>\n",
       "      <th>5</th>\n",
       "      <td>5</td>\n",
       "      <td>27.0</td>\n",
       "      <td>0.8592</td>\n",
       "      <td>international, ville, roi_mohammed, vol, afric...</td>\n",
       "      <td>Dans le cadre de l’évaluation quantitative des...</td>\n",
       "    </tr>\n",
       "    <tr>\n",
       "      <th>6</th>\n",
       "      <td>6</td>\n",
       "      <td>26.0</td>\n",
       "      <td>0.9343</td>\n",
       "      <td>plus, homme, ministre, an, venir, droit, membr...</td>\n",
       "      <td>Abderrahmane Youssoufi, ancien Premier ministr...</td>\n",
       "    </tr>\n",
       "    <tr>\n",
       "      <th>7</th>\n",
       "      <td>7</td>\n",
       "      <td>63.0</td>\n",
       "      <td>0.8768</td>\n",
       "      <td>mettre, royal, vendredi, roi_mohammed, directi...</td>\n",
       "      <td>Des vagues pouvant atteindre 4 à 6 mètres et d...</td>\n",
       "    </tr>\n",
       "    <tr>\n",
       "      <th>8</th>\n",
       "      <td>8</td>\n",
       "      <td>33.0</td>\n",
       "      <td>0.8358</td>\n",
       "      <td>notamment, ete, roi_mohammed, pays, prevue, ju...</td>\n",
       "      <td>Considérées comme un patrimoine humain et natu...</td>\n",
       "    </tr>\n",
       "    <tr>\n",
       "      <th>9</th>\n",
       "      <td>9</td>\n",
       "      <td>6.0</td>\n",
       "      <td>0.8768</td>\n",
       "      <td>plus, nouveau, faire, roi_mohammed, nombre, su...</td>\n",
       "      <td>Située au sud de Marrakech, la vallée de Drâa ...</td>\n",
       "    </tr>\n",
       "  </tbody>\n",
       "</table>\n",
       "</div>"
      ],
      "text/plain": [
       "   Document_No  Dominant_Topic  Topic_Perc_Contrib  \\\n",
       "0            0            42.0              0.8768   \n",
       "1            1            43.0              0.6716   \n",
       "2            2            16.0              0.9104   \n",
       "3            3            48.0              0.8592   \n",
       "4            4            34.0              0.8768   \n",
       "5            5            27.0              0.8592   \n",
       "6            6            26.0              0.9343   \n",
       "7            7            63.0              0.8768   \n",
       "8            8            33.0              0.8358   \n",
       "9            9             6.0              0.8768   \n",
       "\n",
       "                                            Keywords  \\\n",
       "0  ministre, affaires_etrangere, fille, connaître...   \n",
       "1  ville, plus, roi_mohammed, lors, nouveau, roya...   \n",
       "2  alors, autorite, faire, personnel, championnat...   \n",
       "3  roi_mohammed, venir, lors, americain, royaum, ...   \n",
       "4  province, ville, moins, apre, suite, eviter, r...   \n",
       "5  international, ville, roi_mohammed, vol, afric...   \n",
       "6  plus, homme, ministre, an, venir, droit, membr...   \n",
       "7  mettre, royal, vendredi, roi_mohammed, directi...   \n",
       "8  notamment, ete, roi_mohammed, pays, prevue, ju...   \n",
       "9  plus, nouveau, faire, roi_mohammed, nombre, su...   \n",
       "\n",
       "                                                Text  \n",
       "0  Suite à la diffusion d’une interview controver...  \n",
       "1  Casablanca a été classée 49e ville la plus acc...  \n",
       "2  Invitée de l’émission web de Hespress \"Niqach ...  \n",
       "3  Le roi Mohammed VI a adressé un message de fél...  \n",
       "4  Des ménages grondent contre le renchérissement...  \n",
       "5  Dans le cadre de l’évaluation quantitative des...  \n",
       "6  Abderrahmane Youssoufi, ancien Premier ministr...  \n",
       "7  Des vagues pouvant atteindre 4 à 6 mètres et d...  \n",
       "8  Considérées comme un patrimoine humain et natu...  \n",
       "9  Située au sud de Marrakech, la vallée de Drâa ...  "
      ]
     },
     "execution_count": 48,
     "metadata": {},
     "output_type": "execute_result"
    }
   ],
   "source": [
    "df_tooptimal_model_sents_keywords = format_topics_sentences(ldamodel=optimal_model, corpus=corpus, texts=data)\n",
    "\n",
    "# Format\n",
    "df_dominant_topic = df_topic_sents_keywords.reset_index()\n",
    "df_dominant_topic.columns = ['Document_No', 'Dominant_Topic', 'Topic_Perc_Contrib', 'Keywords', 'Text']\n",
    "\n",
    "# Show\n",
    "df_dominant_topic.head(10)"
   ]
  },
  {
   "cell_type": "markdown",
   "metadata": {},
   "source": [
    "# Trouvez le document le plus représentatif pour chaque sujet\n",
    "Parfois, seuls les mots-clés du sujet peuvent ne pas être suffisants pour donner un sens au sujet d'un sujet. Donc, pour vous aider à comprendre le sujet, vous pouvez trouver les documents auxquels un sujet donné a le plus contribué et en déduire le sujet en lisant ce document"
   ]
  },
  {
   "cell_type": "code",
   "execution_count": 26,
   "metadata": {},
   "outputs": [
    {
     "data": {
      "text/html": [
       "<div>\n",
       "<style scoped>\n",
       "    .dataframe tbody tr th:only-of-type {\n",
       "        vertical-align: middle;\n",
       "    }\n",
       "\n",
       "    .dataframe tbody tr th {\n",
       "        vertical-align: top;\n",
       "    }\n",
       "\n",
       "    .dataframe thead th {\n",
       "        text-align: right;\n",
       "    }\n",
       "</style>\n",
       "<table border=\"1\" class=\"dataframe\">\n",
       "  <thead>\n",
       "    <tr style=\"text-align: right;\">\n",
       "      <th></th>\n",
       "      <th>Topic_Num</th>\n",
       "      <th>Topic_Perc_Contrib</th>\n",
       "      <th>Keywords</th>\n",
       "      <th>Text</th>\n",
       "    </tr>\n",
       "  </thead>\n",
       "  <tbody>\n",
       "    <tr>\n",
       "      <th>0</th>\n",
       "      <td>0.0</td>\n",
       "      <td>0.9552</td>\n",
       "      <td>roi_mohammed, plus, vi, apre, personne, monde,...</td>\n",
       "      <td>Un large remaniement attend le Gouvernement ma...</td>\n",
       "    </tr>\n",
       "    <tr>\n",
       "      <th>1</th>\n",
       "      <td>1.0</td>\n",
       "      <td>0.9589</td>\n",
       "      <td>roi_mohammed, apre, public, accident, mettre, ...</td>\n",
       "      <td>La réélection de Habib El Malki à la tête de l...</td>\n",
       "    </tr>\n",
       "    <tr>\n",
       "      <th>2</th>\n",
       "      <td>2.0</td>\n",
       "      <td>0.9648</td>\n",
       "      <td>fin, gouvernement, securite, europeenn, main, ...</td>\n",
       "      <td>Le Ministre des Affaires étrangères veut mettr...</td>\n",
       "    </tr>\n",
       "    <tr>\n",
       "      <th>3</th>\n",
       "      <td>3.0</td>\n",
       "      <td>0.9635</td>\n",
       "      <td>ministre, nouveau, direction, roi_mohammed, ve...</td>\n",
       "      <td>Au fil des ans, le Maroc a acquis le statut de...</td>\n",
       "    </tr>\n",
       "    <tr>\n",
       "      <th>4</th>\n",
       "      <td>4.0</td>\n",
       "      <td>0.9531</td>\n",
       "      <td>gouvernement, lors, roi_mohammed, message, vie...</td>\n",
       "      <td>Une circulaire vient d’être envoyée aux procur...</td>\n",
       "    </tr>\n",
       "  </tbody>\n",
       "</table>\n",
       "</div>"
      ],
      "text/plain": [
       "   Topic_Num  Topic_Perc_Contrib  \\\n",
       "0        0.0              0.9552   \n",
       "1        1.0              0.9589   \n",
       "2        2.0              0.9648   \n",
       "3        3.0              0.9635   \n",
       "4        4.0              0.9531   \n",
       "\n",
       "                                            Keywords  \\\n",
       "0  roi_mohammed, plus, vi, apre, personne, monde,...   \n",
       "1  roi_mohammed, apre, public, accident, mettre, ...   \n",
       "2  fin, gouvernement, securite, europeenn, main, ...   \n",
       "3  ministre, nouveau, direction, roi_mohammed, ve...   \n",
       "4  gouvernement, lors, roi_mohammed, message, vie...   \n",
       "\n",
       "                                                Text  \n",
       "0  Un large remaniement attend le Gouvernement ma...  \n",
       "1  La réélection de Habib El Malki à la tête de l...  \n",
       "2  Le Ministre des Affaires étrangères veut mettr...  \n",
       "3  Au fil des ans, le Maroc a acquis le statut de...  \n",
       "4  Une circulaire vient d’être envoyée aux procur...  "
      ]
     },
     "execution_count": 26,
     "metadata": {},
     "output_type": "execute_result"
    }
   ],
   "source": [
    "# Group top 5 sentences under each topic\n",
    "sent_topics_sorteddf_mallet = pd.DataFrame()\n",
    "\n",
    "sent_topics_outdf_grpd = df_topic_sents_keywords.groupby('Dominant_Topic')\n",
    "\n",
    "for i, grp in sent_topics_outdf_grpd:\n",
    "    sent_topics_sorteddf_mallet = pd.concat([sent_topics_sorteddf_mallet, \n",
    "                                             grp.sort_values(['Perc_Contribution'], ascending=[0]).head(1)], \n",
    "                                            axis=0)\n",
    "\n",
    "# Reset Index    \n",
    "sent_topics_sorteddf_mallet.reset_index(drop=True, inplace=True)\n",
    "\n",
    "# Format\n",
    "sent_topics_sorteddf_mallet.columns = ['Topic_Num', \"Topic_Perc_Contrib\", \"Keywords\", \"Text\"]\n",
    "\n",
    "# Show\n",
    "sent_topics_sorteddf_mallet.head()"
   ]
  },
  {
   "cell_type": "markdown",
   "metadata": {},
   "source": [
    "# Répartition des sujets entre les documents :\n",
    "Nous voulons comprendre le volume et la distribution des sujets afin de juger de l'ampleur de la discussion"
   ]
  },
  {
   "cell_type": "code",
   "execution_count": 27,
   "metadata": {},
   "outputs": [
    {
     "data": {
      "text/html": [
       "<div>\n",
       "<style scoped>\n",
       "    .dataframe tbody tr th:only-of-type {\n",
       "        vertical-align: middle;\n",
       "    }\n",
       "\n",
       "    .dataframe tbody tr th {\n",
       "        vertical-align: top;\n",
       "    }\n",
       "\n",
       "    .dataframe thead th {\n",
       "        text-align: right;\n",
       "    }\n",
       "</style>\n",
       "<table border=\"1\" class=\"dataframe\">\n",
       "  <thead>\n",
       "    <tr style=\"text-align: right;\">\n",
       "      <th></th>\n",
       "      <th>Dominant_Topic</th>\n",
       "      <th>Topic_Keywords</th>\n",
       "      <th>Num_Documents</th>\n",
       "      <th>Perc_Documents</th>\n",
       "    </tr>\n",
       "  </thead>\n",
       "  <tbody>\n",
       "    <tr>\n",
       "      <th>0.0</th>\n",
       "      <td>42.0</td>\n",
       "      <td>ministre, affaires_etrangere, fille, connaître...</td>\n",
       "      <td>30.0</td>\n",
       "      <td>0.0167</td>\n",
       "    </tr>\n",
       "    <tr>\n",
       "      <th>1.0</th>\n",
       "      <td>43.0</td>\n",
       "      <td>ville, plus, roi_mohammed, lors, nouveau, roya...</td>\n",
       "      <td>19.0</td>\n",
       "      <td>0.0105</td>\n",
       "    </tr>\n",
       "    <tr>\n",
       "      <th>2.0</th>\n",
       "      <td>16.0</td>\n",
       "      <td>alors, autorite, faire, personnel, championnat...</td>\n",
       "      <td>19.0</td>\n",
       "      <td>0.0105</td>\n",
       "    </tr>\n",
       "    <tr>\n",
       "      <th>3.0</th>\n",
       "      <td>48.0</td>\n",
       "      <td>roi_mohammed, venir, lors, americain, royaum, ...</td>\n",
       "      <td>37.0</td>\n",
       "      <td>0.0205</td>\n",
       "    </tr>\n",
       "    <tr>\n",
       "      <th>4.0</th>\n",
       "      <td>34.0</td>\n",
       "      <td>province, ville, moins, apre, suite, eviter, r...</td>\n",
       "      <td>19.0</td>\n",
       "      <td>0.0105</td>\n",
       "    </tr>\n",
       "    <tr>\n",
       "      <th>...</th>\n",
       "      <td>...</td>\n",
       "      <td>...</td>\n",
       "      <td>...</td>\n",
       "      <td>...</td>\n",
       "    </tr>\n",
       "    <tr>\n",
       "      <th>1796.0</th>\n",
       "      <td>2.0</td>\n",
       "      <td>fin, gouvernement, securite, europeenn, main, ...</td>\n",
       "      <td>NaN</td>\n",
       "      <td>NaN</td>\n",
       "    </tr>\n",
       "    <tr>\n",
       "      <th>1797.0</th>\n",
       "      <td>48.0</td>\n",
       "      <td>roi_mohammed, venir, lors, americain, royaum, ...</td>\n",
       "      <td>NaN</td>\n",
       "      <td>NaN</td>\n",
       "    </tr>\n",
       "    <tr>\n",
       "      <th>1798.0</th>\n",
       "      <td>49.0</td>\n",
       "      <td>venir, autorite, situation, algerie, partir, r...</td>\n",
       "      <td>NaN</td>\n",
       "      <td>NaN</td>\n",
       "    </tr>\n",
       "    <tr>\n",
       "      <th>1799.0</th>\n",
       "      <td>21.0</td>\n",
       "      <td>ministre, direction, roi_mohammed, porte, anno...</td>\n",
       "      <td>NaN</td>\n",
       "      <td>NaN</td>\n",
       "    </tr>\n",
       "    <tr>\n",
       "      <th>1800.0</th>\n",
       "      <td>18.0</td>\n",
       "      <td>ministre, roi_mohammed, projet, gouvernement, ...</td>\n",
       "      <td>NaN</td>\n",
       "      <td>NaN</td>\n",
       "    </tr>\n",
       "  </tbody>\n",
       "</table>\n",
       "<p>1801 rows × 4 columns</p>\n",
       "</div>"
      ],
      "text/plain": [
       "        Dominant_Topic                                     Topic_Keywords  \\\n",
       "0.0               42.0  ministre, affaires_etrangere, fille, connaître...   \n",
       "1.0               43.0  ville, plus, roi_mohammed, lors, nouveau, roya...   \n",
       "2.0               16.0  alors, autorite, faire, personnel, championnat...   \n",
       "3.0               48.0  roi_mohammed, venir, lors, americain, royaum, ...   \n",
       "4.0               34.0  province, ville, moins, apre, suite, eviter, r...   \n",
       "...                ...                                                ...   \n",
       "1796.0             2.0  fin, gouvernement, securite, europeenn, main, ...   \n",
       "1797.0            48.0  roi_mohammed, venir, lors, americain, royaum, ...   \n",
       "1798.0            49.0  venir, autorite, situation, algerie, partir, r...   \n",
       "1799.0            21.0  ministre, direction, roi_mohammed, porte, anno...   \n",
       "1800.0            18.0  ministre, roi_mohammed, projet, gouvernement, ...   \n",
       "\n",
       "        Num_Documents  Perc_Documents  \n",
       "0.0              30.0          0.0167  \n",
       "1.0              19.0          0.0105  \n",
       "2.0              19.0          0.0105  \n",
       "3.0              37.0          0.0205  \n",
       "4.0              19.0          0.0105  \n",
       "...               ...             ...  \n",
       "1796.0            NaN             NaN  \n",
       "1797.0            NaN             NaN  \n",
       "1798.0            NaN             NaN  \n",
       "1799.0            NaN             NaN  \n",
       "1800.0            NaN             NaN  \n",
       "\n",
       "[1801 rows x 4 columns]"
      ]
     },
     "execution_count": 27,
     "metadata": {},
     "output_type": "execute_result"
    }
   ],
   "source": [
    "# Number of Documents for Each Topic\n",
    "topic_counts = df_topic_sents_keywords['Dominant_Topic'].value_counts()\n",
    "\n",
    "# Percentage of Documents for Each Topic\n",
    "topic_contribution = round(topic_counts/topic_counts.sum(), 4)\n",
    "\n",
    "# Topic Number and Keywords\n",
    "topic_num_keywords = df_topic_sents_keywords[['Dominant_Topic', 'Topic_Keywords']]\n",
    "\n",
    "# Concatenate Column wise\n",
    "df_dominant_topics = pd.concat([topic_num_keywords, topic_counts, topic_contribution], axis=1)\n",
    "\n",
    "# Change Column names\n",
    "df_dominant_topics.columns = ['Dominant_Topic', 'Topic_Keywords', 'Num_Documents', 'Perc_Documents']\n",
    "\n",
    "# Show\n",
    "df_dominant_topics"
   ]
  },
  {
   "cell_type": "code",
   "execution_count": 24,
   "metadata": {},
   "outputs": [],
   "source": [
    "from gensim.test.utils import common_corpus, common_dictionary\n",
    "from gensim.models.ldamodel import LdaModel\n",
    "from gensim.models.coherencemodel import CoherenceModel"
   ]
  },
  {
   "cell_type": "code",
   "execution_count": null,
   "metadata": {},
   "outputs": [],
   "source": []
  }
 ],
 "metadata": {
  "kernelspec": {
   "display_name": "Python 3",
   "language": "python",
   "name": "python3"
  },
  "language_info": {
   "codemirror_mode": {
    "name": "ipython",
    "version": 3
   },
   "file_extension": ".py",
   "mimetype": "text/x-python",
   "name": "python",
   "nbconvert_exporter": "python",
   "pygments_lexer": "ipython3",
   "version": "3.5.3"
  }
 },
 "nbformat": 4,
 "nbformat_minor": 4
}
